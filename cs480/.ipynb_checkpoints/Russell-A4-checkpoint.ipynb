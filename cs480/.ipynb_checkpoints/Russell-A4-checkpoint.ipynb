{
 "cells": [
  {
   "cell_type": "markdown",
   "metadata": {},
   "source": [
    "$\\newcommand{\\xv}{\\mathbf{x}}\n",
    "\\newcommand{\\Xv}{\\mathbf{X}}\n",
    "\\newcommand{\\yv}{\\mathbf{y}}\n",
    "\\newcommand{\\zv}{\\mathbf{z}}\n",
    "\\newcommand{\\av}{\\mathbf{a}}\n",
    "\\newcommand{\\Wv}{\\mathbf{W}}\n",
    "\\newcommand{\\wv}{\\mathbf{w}}\n",
    "\\newcommand{\\tv}{\\mathbf{t}}\n",
    "\\newcommand{\\Tv}{\\mathbf{T}}\n",
    "\\newcommand{\\muv}{\\boldsymbol{\\mu}}\n",
    "\\newcommand{\\sigmav}{\\boldsymbol{\\sigma}}\n",
    "\\newcommand{\\phiv}{\\boldsymbol{\\phi}}\n",
    "\\newcommand{\\Phiv}{\\boldsymbol{\\Phi}}\n",
    "\\newcommand{\\Sigmav}{\\boldsymbol{\\Sigma}}\n",
    "\\newcommand{\\Lambdav}{\\boldsymbol{\\Lambda}}\n",
    "\\newcommand{\\half}{\\frac{1}{2}}\n",
    "\\newcommand{\\argmax}[1]{\\underset{#1}{\\operatorname{argmax}}}\n",
    "\\newcommand{\\argmin}[1]{\\underset{#1}{\\operatorname{argmin}}}$"
   ]
  },
  {
   "cell_type": "markdown",
   "metadata": {},
   "source": [
    "# Assignment 4: Classification with LDA and Logistic Regression"
   ]
  },
  {
   "cell_type": "markdown",
   "metadata": {},
   "source": [
    "*Type your name here*"
   ]
  },
  {
   "cell_type": "markdown",
   "metadata": {},
   "source": [
    "## Overview"
   ]
  },
  {
   "cell_type": "markdown",
   "metadata": {},
   "source": [
    "Compare LDA and linear and nonlinear logistic regression applied to two data sets."
   ]
  },
  {
   "cell_type": "markdown",
   "metadata": {},
   "source": [
    "## Required Code"
   ]
  },
  {
   "cell_type": "markdown",
   "metadata": {},
   "source": [
    "Download [nn2.tar](http://www.cs.colostate.edu/~anderson/cs480/notebooks/nn2.tar) and extract its contents, which are\n",
    "\n",
    "* `neuralnetworks.py`\n",
    "* `scaledconjugategradient.py`\n",
    "* `mlutils.py`\n",
    "\n",
    "as discussed in lecture. \n",
    "\n",
    "Write the following functions that train and evaluate LDA and neural network logistic regression models.\n",
    "\n",
    "* `model = trainLDA(X,T,parameters)`\n",
    "* `percentCorrect = evaluateLDA(model,X,T)`\n",
    "* `model = trainNN(X,T,parameters)`\n",
    "* `percentCorrect = evaluateNN(model,X,T)`\n",
    "The `parameters` argument for `trainNN` is a list of the hidden layers structure and the number of SCG iterations, as in the previous assignment. The value of the `parameters` argument for `trainLDA` is not used.\n",
    "\n",
    "Use the `trainValidateTestKFoldsClassification` function in `mlutils.py` to apply the above functions. \n",
    "\n",
    "The `NeuralNetworkClassifier` class in the above `neuralnetworks.py` file allows you to specify 0 hidden units.  This creates a neural network with just the output layer designed to do classification.  In other words, specify 0 hidden units to apply linear logistic regression."
   ]
  },
  {
   "cell_type": "code",
   "execution_count": 1,
   "metadata": {
    "collapsed": true
   },
   "outputs": [],
   "source": [
    "import numpy as np\n",
    "import mlutils as ml\n",
    "import neuralnetworks as nn"
   ]
  },
  {
   "cell_type": "markdown",
   "metadata": {},
   "source": [
    "If you prefer to develop your python code in a separate editor or IDA, you may do so.  If it is stored in a file called `A4mysolution.py`, you can use it here by executing the following cell.\n",
    "\n",
    "<font color=\"red\">REMEMBER</font> to remove our comment out the following import statement and instead, paste in all of your function definintions into this notebook."
   ]
  },
  {
   "cell_type": "code",
   "execution_count": 20,
   "metadata": {
    "collapsed": false
   },
   "outputs": [],
   "source": [
    "# from A4mysolution import * "
   ]
  },
  {
   "cell_type": "markdown",
   "metadata": {},
   "source": [
    "Here is an example, using our automobile MPG data.  This time, instead of predicting the actual MPG values, we quantize the MPG values into 5 intervals, and classify each sample as being in one of these 5 intervals."
   ]
  },
  {
   "cell_type": "code",
   "execution_count": 3,
   "metadata": {
    "collapsed": true
   },
   "outputs": [],
   "source": [
    "def makeMPGData(filename='auto-mpg.data'):\n",
    "    def missingIsNan(s):\n",
    "        return np.nan if s == b'?' else float(s)\n",
    "    data = np.loadtxt(filename, usecols=range(8), converters={3: missingIsNan})\n",
    "    print(\"Read\",data.shape[0],\"rows and\",data.shape[1],\"columns from\",filename)\n",
    "    goodRowsMask = np.isnan(data).sum(axis=1) == 0\n",
    "    data = data[goodRowsMask,:]\n",
    "    print(\"After removing rows containing question marks, data has\",data.shape[0],\"rows and\",data.shape[1],\"columns.\")\n",
    "    X = data[:,1:]\n",
    "    T = data[:,0:1]\n",
    "    Xnames =  ['cylinders','displacement','horsepower','weight','acceleration','year','origin']\n",
    "    Tname = 'mpg'\n",
    "    return X,T,Xnames,Tname"
   ]
  },
  {
   "cell_type": "code",
   "execution_count": 4,
   "metadata": {
    "collapsed": true
   },
   "outputs": [],
   "source": [
    "def makeMPGClasses(T):\n",
    "    bounds = np.arange(5,45,10)\n",
    "    Tclasses = -np.ones(T.shape).astype(np.int)\n",
    "    for i,mpg in enumerate(T):\n",
    "        for k in range(len(bounds)-1):\n",
    "            if bounds[k] < mpg <= bounds[k+1]:\n",
    "                Tclasses[i] = bounds[k+1]\n",
    "        if Tclasses[i] == -1:\n",
    "            Tclasses[i] = 50  # max mpg is 46.6\n",
    "    return Tclasses"
   ]
  },
  {
   "cell_type": "code",
   "execution_count": 5,
   "metadata": {
    "collapsed": false
   },
   "outputs": [
    {
     "name": "stdout",
     "output_type": "stream",
     "text": [
      "Read 398 rows and 8 columns from auto-mpg.data\n",
      "After removing rows containing question marks, data has 392 rows and 8 columns.\n",
      "classes [15 25 35 50]\n",
      "counts [ 69 167 123  33]\n"
     ]
    }
   ],
   "source": [
    "X,T,Xnames,Tname = makeMPGData('auto-mpg.data')\n",
    "Tclasses = makeMPGClasses(T)\n",
    "classes,counts = np.unique(Tclasses,return_counts=True)\n",
    "print('classes',classes)\n",
    "print('counts',counts)"
   ]
  },
  {
   "cell_type": "code",
   "execution_count": 6,
   "metadata": {
    "collapsed": true
   },
   "outputs": [],
   "source": [
    "def printResults(label,results):\n",
    "    print('{:4s} {:>20s}{:>8s}{:>8s}{:>8s}'.format('Algo','Parameters','TrnAcc','ValAcc','TesAcc'))\n",
    "    print('-------------------------------------------------')\n",
    "    for row in results:\n",
    "        # 20 is expected maximum number of characters in printed parameter value list\n",
    "        print('{:>4s} {:>20s} {:7.2f} {:7.2f} {:7.2f}'.format(label,str(row[0]),*row[1:]))"
   ]
  },
  {
   "cell_type": "code",
   "execution_count": 7,
   "metadata": {
    "collapsed": false
   },
   "outputs": [
    {
     "name": "stdout",
     "output_type": "stream",
     "text": [
      "\n",
      "Algo           Parameters  TrnAcc  ValAcc  TesAcc\n",
      "-------------------------------------------------\n",
      "LDA:                 None   79.21   70.53   56.04\n",
      "LDA:                 None   75.58   66.36   80.23\n",
      "LDA:                 None   78.46   67.19   82.72\n",
      "LDA:                 None   77.72   68.07   82.89\n",
      "LDA:                 None   79.75   69.57   69.01\n",
      "LDA:                 None   81.23   72.96   51.52\n"
     ]
    }
   ],
   "source": [
    "resultsLDA = ml.trainValidateTestKFoldsClassification( trainLDA,evaluateLDA, X,Tclasses, [None],\n",
    "                                                       nFolds=6, shuffle=False,verbose=False)\n",
    "printResults('LDA:',resultsLDA)"
   ]
  },
  {
   "cell_type": "code",
   "execution_count": 9,
   "metadata": {
    "collapsed": false
   },
   "outputs": [
    {
     "name": "stdout",
     "output_type": "stream",
     "text": [
      "\n",
      "Algo           Parameters  TrnAcc  ValAcc  TesAcc\n",
      "-------------------------------------------------\n",
      " NN:            [[0], 10]   83.16   74.72   51.65\n",
      " NN:          [[10], 100]   92.21   66.58   89.53\n",
      " NN:          [[10], 100]   93.59   71.86   72.84\n",
      " NN:          [[10], 100]   92.66   72.98   76.32\n",
      " NN:            [[0], 10]   80.50   73.58   61.97\n",
      " NN:          [[10], 100]   94.32   77.44   60.61\n"
     ]
    }
   ],
   "source": [
    "resultsNN = ml.trainValidateTestKFoldsClassification( trainNN,evaluateNN, X,Tclasses, \n",
    "                                                     [ [ [0], 10], [[10], 100] ],\n",
    "                                                     nFolds=6, shuffle=False,verbose=False)\n",
    "printResults('NN:',resultsNN)"
   ]
  },
  {
   "cell_type": "code",
   "execution_count": 10,
   "metadata": {
    "collapsed": false
   },
   "outputs": [
    {
     "name": "stdout",
     "output_type": "stream",
     "text": [
      "      15   25   35   50\n",
      "    ------------------------\n",
      "15 | 91.3  8.7  0    0     (69 / 69)\n",
      "25 | 11.4 68.9 18.6  1.2   (167 / 167)\n",
      "35 |  0    8.9 68.3 22.8   (123 / 123)\n",
      "50 |  0    0   18.2 81.8   (33 / 33)\n"
     ]
    }
   ],
   "source": [
    "lda = ql.LDA()\n",
    "lda.train(X,Tclasses)\n",
    "predictedClasses,_,_ = lda.use(X)\n",
    "ml.confusionMatrix(Tclasses,predictedClasses,classes); # <- semi-colon prevents printing of returned result"
   ]
  },
  {
   "cell_type": "markdown",
   "metadata": {},
   "source": [
    "## Data\n",
    "\n",
    "Pick at least two classification data sets and apply LDA, Linear Logistic Regression, and Nonlinear Logistic Regression to them."
   ]
  },
  {
   "cell_type": "markdown",
   "metadata": {},
   "source": [
    "## Results\n",
    "\n",
    "In this section, we will be looking for\n",
    "\n",
    "* clear explanations of each function;\n",
    "* experiments with two different data sets with descriptions of the data;\n",
    "* discussion of each result, including\n",
    "  * accuracies as percent correctly classified,\n",
    "  * best parameter values,\n",
    "  * some analysis of each classification algorithm and how it is classifying the data by examining the $\\mu$ values for LDA, and the first layer's weight values for the neural networks;\n",
    "* and discuss which algorithm works best for each data set."
   ]
  },
  {
   "cell_type": "markdown",
   "metadata": {},
   "source": [
    "## Grading\n",
    "\n",
    "Your notebook will be run and graded automatically. Download [A4grader.tar](http://www.cs.colostate.edu/~anderson/cs480/notebooks/A4grader.tar)  and extract A4grader.py from it. Run the code in the following cell to demonstrate an example grading session. You should see a perfect score of 80/100 if your functions are defined correctly. \n",
    "\n",
    "The remaining 20% will be based on your writing.  Be sure to explain each function, and details of the results summarized in the above section. "
   ]
  },
  {
   "cell_type": "markdown",
   "metadata": {},
   "source": [
    "## Check-in"
   ]
  },
  {
   "cell_type": "markdown",
   "metadata": {},
   "source": [
    "Do not include this section in your notebook.\n",
    "\n",
    "Name your notebook ```Lastname-A4.ipynb```.  So, for me it would be ```Anderson-A4.ipynb```.  Submit the file using the ```Assignment 4``` link on [Canvas](https://colostate.instructure.com/courses/41327).\n",
    "\n",
    "Grading will be based on \n",
    "\n",
    "  * correct behavior of the required functions,\n",
    "  * readability of the notebook,\n",
    "  * effort in making interesting observations, and in formatting your notebook,\n",
    "  * testing your code on two different classification data sets of your choice."
   ]
  },
  {
   "cell_type": "code",
   "execution_count": 21,
   "metadata": {
    "collapsed": false
   },
   "outputs": [
    {
     "name": "stdout",
     "output_type": "stream",
     "text": [
      "\n",
      "   Testing   model = trainLDA(X,T)\n",
      "             accuracy = evaluateLDA(model,X,T)\n",
      "\n",
      "20/20 points. Accuracy is within 10 of correct value 50%\n",
      "\n",
      "   Testing   model = trainNN(X,T, [[5],100])\n",
      "             accuracy = evaluateNN(model,X,T)\n",
      "\n",
      "30/30 points. Accuracy is within 10 of correct value 100%\n",
      "\n",
      "  Testing\n",
      "    resultsNN = ml.trainValidateTestKFoldsClassification( trainNN,evaluateNN, X,T, \n",
      "                                                          [ [ [0], 5], [ [10], 100] ],\n",
      "                                                          nFolds=3, shuffle=False,verbose=False)\n",
      "    bestParms = [row[0] for row in resultsNN]\n",
      "\n",
      "\n",
      "30/30 points. You correctly find the best parameters to be [[10],100] for each fold.\n",
      "\n",
      "a4 CODING GRADE is 80/80\n",
      "\n",
      "a4 WRITING GRADE is ??/20\n",
      "\n",
      "a4 FINAL GRADE is ??/100\n",
      "\n",
      "Remember, this python script is just an example of how your code will be graded.\n",
      "Do not be satisfied with an 80% from running this script.  Write and run additional\n",
      "tests of your own design.\n"
     ]
    }
   ],
   "source": [
    "%run -i A4grader.py"
   ]
  }
 ],
 "metadata": {
  "kernelspec": {
   "display_name": "Python [default]",
   "language": "python",
   "name": "python3"
  },
  "language_info": {
   "codemirror_mode": {
    "name": "ipython",
    "version": 3
   },
   "file_extension": ".py",
   "mimetype": "text/x-python",
   "name": "python",
   "nbconvert_exporter": "python",
   "pygments_lexer": "ipython3",
   "version": "3.5.2"
  }
 },
 "nbformat": 4,
 "nbformat_minor": 0
}
