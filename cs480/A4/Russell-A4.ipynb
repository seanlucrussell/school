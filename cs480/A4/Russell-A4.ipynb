{
 "cells": [
  {
   "cell_type": "markdown",
   "metadata": {},
   "source": [
    "$\\newcommand{\\xv}{\\mathbf{x}}\n",
    "\\newcommand{\\Xv}{\\mathbf{X}}\n",
    "\\newcommand{\\yv}{\\mathbf{y}}\n",
    "\\newcommand{\\zv}{\\mathbf{z}}\n",
    "\\newcommand{\\av}{\\mathbf{a}}\n",
    "\\newcommand{\\Wv}{\\mathbf{W}}\n",
    "\\newcommand{\\wv}{\\mathbf{w}}\n",
    "\\newcommand{\\tv}{\\mathbf{t}}\n",
    "\\newcommand{\\Tv}{\\mathbf{T}}\n",
    "\\newcommand{\\muv}{\\boldsymbol{\\mu}}\n",
    "\\newcommand{\\sigmav}{\\boldsymbol{\\sigma}}\n",
    "\\newcommand{\\phiv}{\\boldsymbol{\\phi}}\n",
    "\\newcommand{\\Phiv}{\\boldsymbol{\\Phi}}\n",
    "\\newcommand{\\Sigmav}{\\boldsymbol{\\Sigma}}\n",
    "\\newcommand{\\Lambdav}{\\boldsymbol{\\Lambda}}\n",
    "\\newcommand{\\half}{\\frac{1}{2}}\n",
    "\\newcommand{\\argmax}[1]{\\underset{#1}{\\operatorname{argmax}}}\n",
    "\\newcommand{\\argmin}[1]{\\underset{#1}{\\operatorname{argmin}}}$"
   ]
  },
  {
   "cell_type": "markdown",
   "metadata": {},
   "source": [
    "# Assignment 4: Classification with LDA and Logistic Regression"
   ]
  },
  {
   "cell_type": "markdown",
   "metadata": {},
   "source": [
    "*Sean Russell*"
   ]
  },
  {
   "cell_type": "markdown",
   "metadata": {},
   "source": [
    "## Overview"
   ]
  },
  {
   "cell_type": "markdown",
   "metadata": {},
   "source": [
    "Within these pages I compare LDA and linear and nonlinear logistic regression applied to political science and botany."
   ]
  },
  {
   "cell_type": "markdown",
   "metadata": {},
   "source": [
    "## Python Implementations"
   ]
  },
  {
   "cell_type": "markdown",
   "metadata": {},
   "source": [
    "These methods are used to easily determine the accuracy of neural networks and LDA by determining the percentage of accurately classified samples"
   ]
  },
  {
   "cell_type": "code",
   "execution_count": 1,
   "metadata": {
    "collapsed": false
   },
   "outputs": [],
   "source": [
    "%matplotlib inline \n",
    "import numpy as np\n",
    "import neuralnetworks as nn\n",
    "import qdalda as ql\n",
    "import matplotlib.pyplot as plt\n",
    "import csv"
   ]
  },
  {
   "cell_type": "code",
   "execution_count": 2,
   "metadata": {
    "collapsed": false
   },
   "outputs": [],
   "source": [
    "def trainLDA(X,T,parameters=None):\n",
    "    #parameters value not used\n",
    "    model = ql.LDA()\n",
    "    model.train(X,T)\n",
    "    return model\n",
    "\n",
    "def evaluateLDA(model,X,T):\n",
    "    calculated = model.use(X)[0]\n",
    "    calculated = calculated.flatten()\n",
    "    T = T.flatten()\n",
    "    numberCorrect = np.sum(calculated == T)\n",
    "    percentCorrect = numberCorrect / len(T) * 100\n",
    "    return percentCorrect\n",
    "\n",
    "def trainNN(X,T,parameters):\n",
    "    inputSize = X.shape[1] # DIMENSIONS OF INPUT VECTORS\n",
    "    outputSize = len(np.unique(T)) # NUMBER OF CLASSES\n",
    "    nnet = nn.NeuralNetworkClassifier(inputSize,parameters[0],outputSize)\n",
    "    nnet.train(X,T,nIterations = parameters[1])\n",
    "    return nnet\n",
    "\n",
    "def evaluateNN(model,X,T):\n",
    "    calculated = model.use(X)\n",
    "    numberCorrect = np.sum(calculated == T)\n",
    "    percentCorrect = numberCorrect / len(T) * 100\n",
    "    return percentCorrect"
   ]
  },
  {
   "cell_type": "markdown",
   "metadata": {},
   "source": [
    "## Data"
   ]
  },
  {
   "cell_type": "markdown",
   "metadata": {},
   "source": [
    "The first dataset examined with these algorithms is voting records from the 1984 house of representatives. Representatives voted yea or nay on 16 different issues, and their party affiliation was recorded. The goal then is to give each representative a party based on their voting history.\n",
    "\n",
    "The second dataset deals with classifying irises based off of the dimensions of the flowers."
   ]
  },
  {
   "cell_type": "markdown",
   "metadata": {},
   "source": [
    "### Political Science"
   ]
  },
  {
   "cell_type": "markdown",
   "metadata": {},
   "source": [
    "First, read in the data"
   ]
  },
  {
   "cell_type": "code",
   "execution_count": 3,
   "metadata": {
    "collapsed": false
   },
   "outputs": [],
   "source": [
    "with open('political/house-votes-84.data', 'r') as f:\n",
    "    reader = csv.reader(f)\n",
    "    poldata = list(reader)\n",
    "representatives = {'republican':0,'democrat':1}\n",
    "yn = {'n':-1,'?':0,'y':1}\n",
    "for row in poldata:\n",
    "    for index, item in enumerate(row):\n",
    "        row[index] = representatives[item] if index == 0 else yn[item]\n",
    "poldata = np.array(poldata)\n",
    "polnames = ['handicapped infants','water project cost sharing','adoption of budget resolution',\n",
    "            'physician fee freeze','el salvidor aid','religious groups in schools','anti satellite test ban',\n",
    "            'aid to nicaraguan contras','mx missile','immigration','synfuels corporation cutback',\n",
    "            'education spending','superfund right to sue','crime','duty free exports',\n",
    "            'export administration act south africa']\n",
    "poltargets = poldata[:,0,None]\n",
    "polinputs = poldata[:,1:]"
   ]
  },
  {
   "cell_type": "markdown",
   "metadata": {},
   "source": [
    "I then arranged the data into dictionaries based on the issue at hand, the way that representatives voted, and the party affiliation of the representatives."
   ]
  },
  {
   "cell_type": "code",
   "execution_count": 4,
   "metadata": {
    "collapsed": false
   },
   "outputs": [
    {
     "data": {
      "text/plain": [
       "{'democrat adoption of budget resolution nay': 29,\n",
       " 'democrat adoption of budget resolution unknown': 7,\n",
       " 'democrat adoption of budget resolution yea': 231,\n",
       " 'democrat aid to nicaraguan contras nay': 45,\n",
       " 'democrat aid to nicaraguan contras unknown': 4,\n",
       " 'democrat aid to nicaraguan contras yea': 218,\n",
       " 'democrat anti satellite test ban nay': 59,\n",
       " 'democrat anti satellite test ban unknown': 8,\n",
       " 'democrat anti satellite test ban yea': 200,\n",
       " 'democrat crime nay': 167,\n",
       " 'democrat crime unknown': 10,\n",
       " 'democrat crime yea': 90,\n",
       " 'democrat duty free exports nay': 91,\n",
       " 'democrat duty free exports unknown': 16,\n",
       " 'democrat duty free exports yea': 160,\n",
       " 'democrat education spending nay': 213,\n",
       " 'democrat education spending unknown': 18,\n",
       " 'democrat education spending yea': 36,\n",
       " 'democrat el salvidor aid nay': 200,\n",
       " 'democrat el salvidor aid unknown': 12,\n",
       " 'democrat el salvidor aid yea': 55,\n",
       " 'democrat export administration act south africa nay': 12,\n",
       " 'democrat export administration act south africa unknown': 82,\n",
       " 'democrat export administration act south africa yea': 173,\n",
       " 'democrat handicapped infants nay': 102,\n",
       " 'democrat handicapped infants unknown': 9,\n",
       " 'democrat handicapped infants yea': 156,\n",
       " 'democrat immigration nay': 139,\n",
       " 'democrat immigration unknown': 4,\n",
       " 'democrat immigration yea': 124,\n",
       " 'democrat mx missile nay': 60,\n",
       " 'democrat mx missile unknown': 19,\n",
       " 'democrat mx missile yea': 188,\n",
       " 'democrat physician fee freeze nay': 245,\n",
       " 'democrat physician fee freeze unknown': 8,\n",
       " 'democrat physician fee freeze yea': 14,\n",
       " 'democrat religious groups in schools nay': 135,\n",
       " 'democrat religious groups in schools unknown': 9,\n",
       " 'democrat religious groups in schools yea': 123,\n",
       " 'democrat superfund right to sue nay': 179,\n",
       " 'democrat superfund right to sue unknown': 15,\n",
       " 'democrat superfund right to sue yea': 73,\n",
       " 'democrat synfuels corporation cutback nay': 126,\n",
       " 'democrat synfuels corporation cutback unknown': 12,\n",
       " 'democrat synfuels corporation cutback yea': 129,\n",
       " 'democrat water project cost sharing nay': 119,\n",
       " 'democrat water project cost sharing unknown': 28,\n",
       " 'democrat water project cost sharing yea': 120,\n",
       " 'republican adoption of budget resolution nay': 142,\n",
       " 'republican adoption of budget resolution unknown': 4,\n",
       " 'republican adoption of budget resolution yea': 22,\n",
       " 'republican aid to nicaraguan contras nay': 133,\n",
       " 'republican aid to nicaraguan contras unknown': 11,\n",
       " 'republican aid to nicaraguan contras yea': 24,\n",
       " 'republican anti satellite test ban nay': 123,\n",
       " 'republican anti satellite test ban unknown': 6,\n",
       " 'republican anti satellite test ban yea': 39,\n",
       " 'republican crime nay': 3,\n",
       " 'republican crime unknown': 7,\n",
       " 'republican crime yea': 158,\n",
       " 'republican duty free exports nay': 142,\n",
       " 'republican duty free exports unknown': 12,\n",
       " 'republican duty free exports yea': 14,\n",
       " 'republican education spending nay': 20,\n",
       " 'republican education spending unknown': 13,\n",
       " 'republican education spending yea': 135,\n",
       " 'republican el salvidor aid nay': 8,\n",
       " 'republican el salvidor aid unknown': 3,\n",
       " 'republican el salvidor aid yea': 157,\n",
       " 'republican export administration act south africa nay': 50,\n",
       " 'republican export administration act south africa unknown': 22,\n",
       " 'republican export administration act south africa yea': 96,\n",
       " 'republican handicapped infants nay': 134,\n",
       " 'republican handicapped infants unknown': 3,\n",
       " 'republican handicapped infants yea': 31,\n",
       " 'republican immigration nay': 73,\n",
       " 'republican immigration unknown': 3,\n",
       " 'republican immigration yea': 92,\n",
       " 'republican mx missile nay': 146,\n",
       " 'republican mx missile unknown': 3,\n",
       " 'republican mx missile yea': 19,\n",
       " 'republican physician fee freeze nay': 2,\n",
       " 'republican physician fee freeze unknown': 3,\n",
       " 'republican physician fee freeze yea': 163,\n",
       " 'republican religious groups in schools nay': 17,\n",
       " 'republican religious groups in schools unknown': 2,\n",
       " 'republican religious groups in schools yea': 149,\n",
       " 'republican superfund right to sue nay': 22,\n",
       " 'republican superfund right to sue unknown': 10,\n",
       " 'republican superfund right to sue yea': 136,\n",
       " 'republican synfuels corporation cutback nay': 138,\n",
       " 'republican synfuels corporation cutback unknown': 9,\n",
       " 'republican synfuels corporation cutback yea': 21,\n",
       " 'republican water project cost sharing nay': 73,\n",
       " 'republican water project cost sharing unknown': 20,\n",
       " 'republican water project cost sharing yea': 75}"
      ]
     },
     "execution_count": 4,
     "metadata": {},
     "output_type": "execute_result"
    }
   ],
   "source": [
    "partyVotingRecords = {}\n",
    "\n",
    "for rep in representatives:\n",
    "    for issue in range(polinputs.shape[1]):\n",
    "        repIssues = polinputs[poltargets[:,0]==representatives[rep]][:,issue]\n",
    "        yea = np.count_nonzero(repIssues == 1)\n",
    "        nay = np.count_nonzero(repIssues == -1)\n",
    "        unknown = np.count_nonzero(repIssues == 0)\n",
    "        partyVotingRecords[rep + ' ' + polnames[issue] + ' yea'] = yea\n",
    "        partyVotingRecords[rep + ' ' + polnames[issue] + ' nay'] = nay\n",
    "        partyVotingRecords[rep + ' ' + polnames[issue] + ' unknown'] = unknown\n",
    "partyVotingRecords"
   ]
  },
  {
   "cell_type": "markdown",
   "metadata": {},
   "source": [
    "I made another dictionary to make it even easier to access information, by first looking at the issue at hand, and then easily being able to view how the parties voted."
   ]
  },
  {
   "cell_type": "code",
   "execution_count": 5,
   "metadata": {
    "collapsed": false
   },
   "outputs": [
    {
     "data": {
      "text/plain": [
       "{'adoption of budget resolution': {'democrat nay': 29,\n",
       "  'democrat unknown': 7,\n",
       "  'democrat yea': 231,\n",
       "  'republican nay': 142,\n",
       "  'republican unknown': 4,\n",
       "  'republican yea': 22},\n",
       " 'aid to nicaraguan contras': {'democrat nay': 45,\n",
       "  'democrat unknown': 4,\n",
       "  'democrat yea': 218,\n",
       "  'republican nay': 133,\n",
       "  'republican unknown': 11,\n",
       "  'republican yea': 24},\n",
       " 'anti satellite test ban': {'democrat nay': 59,\n",
       "  'democrat unknown': 8,\n",
       "  'democrat yea': 200,\n",
       "  'republican nay': 123,\n",
       "  'republican unknown': 6,\n",
       "  'republican yea': 39},\n",
       " 'crime': {'democrat nay': 167,\n",
       "  'democrat unknown': 10,\n",
       "  'democrat yea': 90,\n",
       "  'republican nay': 3,\n",
       "  'republican unknown': 7,\n",
       "  'republican yea': 158},\n",
       " 'duty free exports': {'democrat nay': 91,\n",
       "  'democrat unknown': 16,\n",
       "  'democrat yea': 160,\n",
       "  'republican nay': 142,\n",
       "  'republican unknown': 12,\n",
       "  'republican yea': 14},\n",
       " 'education spending': {'democrat nay': 213,\n",
       "  'democrat unknown': 18,\n",
       "  'democrat yea': 36,\n",
       "  'republican nay': 20,\n",
       "  'republican unknown': 13,\n",
       "  'republican yea': 135},\n",
       " 'el salvidor aid': {'democrat nay': 200,\n",
       "  'democrat unknown': 12,\n",
       "  'democrat yea': 55,\n",
       "  'republican nay': 8,\n",
       "  'republican unknown': 3,\n",
       "  'republican yea': 157},\n",
       " 'export administration act south africa': {'democrat nay': 12,\n",
       "  'democrat unknown': 82,\n",
       "  'democrat yea': 173,\n",
       "  'republican nay': 50,\n",
       "  'republican unknown': 22,\n",
       "  'republican yea': 96},\n",
       " 'handicapped infants': {'democrat nay': 102,\n",
       "  'democrat unknown': 9,\n",
       "  'democrat yea': 156,\n",
       "  'republican nay': 134,\n",
       "  'republican unknown': 3,\n",
       "  'republican yea': 31},\n",
       " 'immigration': {'democrat nay': 139,\n",
       "  'democrat unknown': 4,\n",
       "  'democrat yea': 124,\n",
       "  'republican nay': 73,\n",
       "  'republican unknown': 3,\n",
       "  'republican yea': 92},\n",
       " 'mx missile': {'democrat nay': 60,\n",
       "  'democrat unknown': 19,\n",
       "  'democrat yea': 188,\n",
       "  'republican nay': 146,\n",
       "  'republican unknown': 3,\n",
       "  'republican yea': 19},\n",
       " 'physician fee freeze': {'democrat nay': 245,\n",
       "  'democrat unknown': 8,\n",
       "  'democrat yea': 14,\n",
       "  'republican nay': 2,\n",
       "  'republican unknown': 3,\n",
       "  'republican yea': 163},\n",
       " 'religious groups in schools': {'democrat nay': 135,\n",
       "  'democrat unknown': 9,\n",
       "  'democrat yea': 123,\n",
       "  'republican nay': 17,\n",
       "  'republican unknown': 2,\n",
       "  'republican yea': 149},\n",
       " 'superfund right to sue': {'democrat nay': 179,\n",
       "  'democrat unknown': 15,\n",
       "  'democrat yea': 73,\n",
       "  'republican nay': 22,\n",
       "  'republican unknown': 10,\n",
       "  'republican yea': 136},\n",
       " 'synfuels corporation cutback': {'democrat nay': 126,\n",
       "  'democrat unknown': 12,\n",
       "  'democrat yea': 129,\n",
       "  'republican nay': 138,\n",
       "  'republican unknown': 9,\n",
       "  'republican yea': 21},\n",
       " 'water project cost sharing': {'democrat nay': 119,\n",
       "  'democrat unknown': 28,\n",
       "  'democrat yea': 120,\n",
       "  'republican nay': 73,\n",
       "  'republican unknown': 20,\n",
       "  'republican yea': 75}}"
      ]
     },
     "execution_count": 5,
     "metadata": {},
     "output_type": "execute_result"
    }
   ],
   "source": [
    "allIssues = {}\n",
    "for vote in polnames:\n",
    "    issue = {}\n",
    "    for record in partyVotingRecords:\n",
    "        if vote in record:\n",
    "            issue[record.replace(vote + ' ','')] = partyVotingRecords[record]\n",
    "            #print(vote,record)\n",
    "    allIssues[vote] = issue\n",
    "allIssues"
   ]
  },
  {
   "cell_type": "markdown",
   "metadata": {},
   "source": [
    "Using this dictionary, I generated bar charts of every vote to see how representatives voted"
   ]
  },
  {
   "cell_type": "code",
   "execution_count": 6,
   "metadata": {
    "collapsed": false
   },
   "outputs": [
    {
     "data": {
      "image/png": "[encoded data removed]",
      "text/plain": [
       "<matplotlib.figure.Figure at 0x10acfd978>"
      ]
     },
     "metadata": {},
     "output_type": "display_data"
    }
   ],
   "source": [
    "plt.rcParams[\"figure.figsize\"] = [14.0,24.0]\n",
    "\n",
    "for issue,i in zip(allIssues,range(len(allIssues))):\n",
    "    ax = plt.subplot(6,3, i+1)\n",
    "    demlabels, demdata, replabels, repdata = [], [], [], []\n",
    "    for vote in allIssues[issue]:\n",
    "        if 'democrat' in vote:\n",
    "            demlabels.append(vote.replace('democrat ',''))\n",
    "            demdata.append(allIssues[issue][vote])\n",
    "        if 'republican' in vote:\n",
    "            replabels.append(vote.replace('republican ',''))\n",
    "            repdata.append(allIssues[issue][vote])\n",
    "    demyeaindex = demlabels.index('yea')\n",
    "    demneaindex = demlabels.index('nay')\n",
    "    demunknownindex = demlabels.index('unknown')\n",
    "    repyeaindex = replabels.index('yea')\n",
    "    repneaindex = replabels.index('nay')\n",
    "    repunknownindex = replabels.index('unknown')\n",
    "    demlabels = [demlabels[demyeaindex],demlabels[demneaindex],demlabels[demunknownindex]]\n",
    "    demdata = [demdata[demyeaindex],demdata[demneaindex],demdata[demunknownindex]]\n",
    "    replabels = [replabels[repyeaindex],replabels[repneaindex],replabels[repunknownindex]]\n",
    "    repdata = [repdata[repyeaindex],repdata[repneaindex],repdata[repunknownindex]]\n",
    "    plt.bar([0,1,2], demdata,color='b',label='democrat')\n",
    "    plt.bar([3,4,5], repdata,color='r',label='republican')\n",
    "    plt.xticks([0,1,2,3,4,5], demlabels + replabels)\n",
    "    plt.title(issue);\n",
    "\n",
    "plt.legend(bbox_to_anchor=(4, 7),prop={'size':20}).get_frame().set_alpha(1);"
   ]
  },
  {
   "cell_type": "markdown",
   "metadata": {},
   "source": [
    "There are a few interesting things that come to light after examining these charts. First, there are many more democrats than republicans. Second, republicans are more unified than democrats on most issues. Maybe republicans are more unified than democrats because they are in the minority, and so to have influence must work together? Also of note, democrats and republicans almost always vote opposite of one another (although this is not very suprising). Water project cost sharing and to a lesser degree imigration seem to be the only two issues where representatives are not strictly divided down party lines."
   ]
  },
  {
   "cell_type": "markdown",
   "metadata": {},
   "source": [
    "Using the methods defined above"
   ]
  },
  {
   "cell_type": "code",
   "execution_count": 7,
   "metadata": {
    "collapsed": false,
    "scrolled": true
   },
   "outputs": [
    {
     "name": "stdout",
     "output_type": "stream",
     "text": [
      "LDA accuracy: 95.632183908\n",
      "Neural network accuracy: 100.0\n"
     ]
    }
   ],
   "source": [
    "ldaModel = trainLDA(polinputs,poltargets)\n",
    "nnModel = trainNN(polinputs,poltargets,[[5],100])\n",
    "print ('LDA accuracy:',evaluateLDA(ldaModel,polinputs,poltargets))\n",
    "print ('Neural network accuracy:',evaluateNN(nnModel,polinputs,poltargets))"
   ]
  },
  {
   "cell_type": "markdown",
   "metadata": {},
   "source": [
    "Accuracy is extremely high, likely due to the limited number of classes (only democrat and republican) and the extreme degree to which politicans vote along party lines"
   ]
  },
  {
   "cell_type": "markdown",
   "metadata": {},
   "source": [
    "### Iris"
   ]
  },
  {
   "cell_type": "markdown",
   "metadata": {},
   "source": [
    "The sepal and petal of an iris are displayed in this image:\n",
    "\n",
    "\n",
    "![Image of Iris](https://www.math.umd.edu/~petersd/666/html/iris_with_labels.jpg)\n",
    "\n",
    "The second dataset involves catagorizing iris flowers into one of three subspecies: setosa, versicolor, or virignica, based of of the dimensions of the sepal and the petal.\n",
    "First things first, read in the data:"
   ]
  },
  {
   "cell_type": "code",
   "execution_count": 8,
   "metadata": {
    "collapsed": false
   },
   "outputs": [],
   "source": [
    "with open('iris/iris.data', 'r') as f:\n",
    "    reader = csv.reader(f)\n",
    "    irisdata = list(reader)\n",
    "irisdata = irisdata[:-1]\n",
    "classes = {'Iris-setosa':0,'Iris-versicolor':1,'Iris-virginica':2}\n",
    "for row in irisdata:\n",
    "    for index,item in enumerate(row):\n",
    "        row[index] = classes[item] if index == 4 else float(item)\n",
    "irisdata = np.array(irisdata)\n",
    "irisnames = ['sepal length','sepal width','petal length','petal width']\n",
    "iristargets = irisdata[:,4,None]\n",
    "irisinputs = irisdata[:,:4]"
   ]
  },
  {
   "cell_type": "markdown",
   "metadata": {},
   "source": [
    "And then I tried splitting the data up based on the type of flower"
   ]
  },
  {
   "cell_type": "code",
   "execution_count": 9,
   "metadata": {
    "collapsed": true
   },
   "outputs": [],
   "source": [
    "iris_setosa = irisdata[irisdata[:,4]==0][:,:4]\n",
    "iris_versicolor = irisdata[irisdata[:,4]==1][:,:4]\n",
    "iris_virginica = irisdata[irisdata[:,4]==2][:,:4]"
   ]
  },
  {
   "cell_type": "markdown",
   "metadata": {},
   "source": [
    "After doing this, we can see the means of the data by flower type"
   ]
  },
  {
   "cell_type": "code",
   "execution_count": 10,
   "metadata": {
    "collapsed": false
   },
   "outputs": [
    {
     "name": "stdout",
     "output_type": "stream",
     "text": [
      "['sepal length', 'sepal width', 'petal length', 'petal width']\n",
      "setosa:\t\t [ 5.006  3.418  1.464  0.244]\n",
      "versicolor:\t [ 5.936  2.77   4.26   1.326]\n",
      "virginica:\t [ 6.588  2.974  5.552  2.026]\n"
     ]
    }
   ],
   "source": [
    "print(irisnames)\n",
    "print('setosa:\\t\\t',iris_setosa.mean(axis=0))\n",
    "print('versicolor:\\t',iris_versicolor.mean(axis=0))\n",
    "print('virginica:\\t',iris_virginica.mean(axis=0))"
   ]
  },
  {
   "cell_type": "markdown",
   "metadata": {},
   "source": [
    "The setosa has a much smaller petals than the other two, while its sepal length is mostly the same. This will probably be a significant factor in determining if the flower is a setosa. Virginica tends to be bigger than versicolor, but the relative dimensions seem fairly similar. Classification algorithms might find trouble in distinguishing the two.\n",
    "Next I tried plotting the values of the different irises to see what could be seen"
   ]
  },
  {
   "cell_type": "code",
   "execution_count": 11,
   "metadata": {
    "collapsed": false
   },
   "outputs": [
    {
     "data": {
      "image/png": "[encoded data removed]",
      "text/plain": [
       "<matplotlib.figure.Figure at 0x10d705630>"
      ]
     },
     "metadata": {},
     "output_type": "display_data"
    }
   ],
   "source": [
    "plt.rcParams[\"figure.figsize\"] = [14.0,10.0]\n",
    "\n",
    "for i in range(4):\n",
    "    setosa_i = iris_setosa[:,i]\n",
    "    versicolor_i = iris_versicolor[:,i]\n",
    "    virginica_i = iris_virginica[:,i]\n",
    "    data_i = [setosa_i, versicolor_i, virginica_i]\n",
    "    plt.subplot(2,2,i+1)\n",
    "    plt.boxplot(data_i,labels = ['setosa','versicolor','virginica'])\n",
    "    plt.title(irisnames[i],fontsize = 20)\n",
    "    #plt.xticks([1,2,3], ['setosa','versicolor','virginica'])\n",
    "    plt.ylabel(irisnames[i] + ' in cm', fontsize = 16)\n"
   ]
  },
  {
   "cell_type": "markdown",
   "metadata": {},
   "source": [
    "Setosa iris has very little variance when it comes to petals, and since the petals are so different in size than in the other two this is probably the best way to determine whether or not an iris is a setosa. In general, versicolor and virginica are fairly similar, however virginica tends to be larger than versicolor as noted earlier. Since there is a large degree of overlap it will likely be very difficult for the algorithms to choose between the two."
   ]
  },
  {
   "cell_type": "code",
   "execution_count": 12,
   "metadata": {
    "collapsed": false
   },
   "outputs": [
    {
     "name": "stdout",
     "output_type": "stream",
     "text": [
      "LDA accuracy: 98.0\n",
      "Neural network accuracy: 99.3333333333\n"
     ]
    }
   ],
   "source": [
    "ldaModel = trainLDA(irisinputs,iristargets)\n",
    "nnModel = trainNN(irisinputs,iristargets,[[5],100])\n",
    "print ('LDA accuracy:',evaluateLDA(ldaModel,irisinputs,iristargets))\n",
    "print ('Neural network accuracy:',evaluateNN(nnModel,irisinputs,iristargets))"
   ]
  },
  {
   "cell_type": "markdown",
   "metadata": {},
   "source": [
    "The accuracy is higher than I anticipated. Of course since the classifier only needs to choose between three classes the problem is somewhat easier. In addition, the relatively small sample size of only 150 irises makes this especially suceptible to overfitting. To get a more accurate sense of the predictive powers of these models I would need a larger sample size and would also need to split the data into train and verification segments."
   ]
  },
  {
   "cell_type": "code",
   "execution_count": 13,
   "metadata": {
    "collapsed": false
   },
   "outputs": [
    {
     "name": "stdout",
     "output_type": "stream",
     "text": [
      "LDA accuracy: 98.0\n",
      "Neural network accuracy: 98.0\n"
     ]
    }
   ],
   "source": [
    "ldaModel = trainLDA(irisinputs,iristargets)\n",
    "nnModel = trainNN(irisinputs,iristargets,[[0],100])\n",
    "print ('LDA accuracy:',evaluateLDA(ldaModel,irisinputs,iristargets))\n",
    "print ('Neural network accuracy:',evaluateNN(nnModel,irisinputs,iristargets))"
   ]
  },
  {
   "cell_type": "markdown",
   "metadata": {},
   "source": [
    "Just for fun I ran the neural network with zero hidden layers. It produced the same results as the linear classifier, which is what I expected."
   ]
  },
  {
   "cell_type": "markdown",
   "metadata": {},
   "source": [
    "## Conclusions"
   ]
  },
  {
   "cell_type": "markdown",
   "metadata": {},
   "source": [
    "For both the political science and iris datasets, the neural network and LDA algorithms had extremely high accuracy. The neural networks performed slightly better, in both cases approching 100% accuracy. This is likely due to the limited number of classes in both datasets as well as the fairly well defined boundaries in the datasets."
   ]
  },
  {
   "cell_type": "markdown",
   "metadata": {},
   "source": [
    "## Check-in"
   ]
  },
  {
   "cell_type": "code",
   "execution_count": 14,
   "metadata": {
    "collapsed": false
   },
   "outputs": [
    {
     "name": "stdout",
     "output_type": "stream",
     "text": [
      "\n",
      "   Testing   model = trainLDA(X,T)\n",
      "             accuracy = evaluateLDA(model,X,T)\n",
      "\n",
      "20/20 points. Accuracy is within 10 of correct value 50%\n",
      "\n",
      "   Testing   model = trainNN(X,T, [[5],100])\n",
      "             accuracy = evaluateNN(model,X,T)\n",
      "\n",
      "30/30 points. Accuracy is within 10 of correct value 100%\n",
      "\n",
      "  Testing\n",
      "    resultsNN = ml.trainValidateTestKFoldsClassification( trainNN,evaluateNN, X,T, \n",
      "                                                          [ [ [0], 5], [ [10], 100] ],\n",
      "                                                          nFolds=3, shuffle=False,verbose=False)\n",
      "    bestParms = [row[0] for row in resultsNN]\n",
      "\n",
      "\n",
      "30/30 points. You correctly find the best parameters to be [[10],100] for each fold.\n",
      "\n",
      "A4 CODING GRADE is 80/80\n",
      "\n",
      "A4 WRITING GRADE is ??/20\n",
      "\n",
      "A4 FINAL GRADE is ??/100\n",
      "\n",
      "Remember, this python script is just an example of how your code will be graded.\n",
      "Do not be satisfied with an 80% from running this script.  Write and run additional\n",
      "tests of your own design.\n"
     ]
    }
   ],
   "source": [
    "%run -i A4grader.py"
   ]
  }
 ],
 "metadata": {
  "kernelspec": {
   "display_name": "Python [default]",
   "language": "python",
   "name": "python3"
  },
  "language_info": {
   "codemirror_mode": {
    "name": "ipython",
    "version": 3
   },
   "file_extension": ".py",
   "mimetype": "text/x-python",
   "name": "python",
   "nbconvert_exporter": "python",
   "pygments_lexer": "ipython3",
   "version": "3.5.2"
  }
 },
 "nbformat": 4,
 "nbformat_minor": 0
}
