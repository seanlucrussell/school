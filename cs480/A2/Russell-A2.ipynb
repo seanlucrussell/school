{
 "cells": [
  {
   "cell_type": "markdown",
   "metadata": {},
   "source": [
    "$\\newcommand{\\xv}{\\mathbf{x}}\n",
    "\\newcommand{\\Xv}{\\mathbf{X}}\n",
    "\\newcommand{\\yv}{\\mathbf{y}}\n",
    "\\newcommand{\\zv}{\\mathbf{z}}\n",
    "\\newcommand{\\av}{\\mathbf{a}}\n",
    "\\newcommand{\\Wv}{\\mathbf{W}}\n",
    "\\newcommand{\\wv}{\\mathbf{w}}\n",
    "\\newcommand{\\tv}{\\mathbf{t}}\n",
    "\\newcommand{\\Tv}{\\mathbf{T}}\n",
    "\\newcommand{\\muv}{\\boldsymbol{\\mu}}\n",
    "\\newcommand{\\sigmav}{\\boldsymbol{\\sigma}}\n",
    "\\newcommand{\\phiv}{\\boldsymbol{\\phi}}\n",
    "\\newcommand{\\Phiv}{\\boldsymbol{\\Phi}}\n",
    "\\newcommand{\\Sigmav}{\\boldsymbol{\\Sigma}}\n",
    "\\newcommand{\\Lambdav}{\\boldsymbol{\\Lambda}}\n",
    "\\newcommand{\\half}{\\frac{1}{2}}\n",
    "\\newcommand{\\argmax}[1]{\\underset{#1}{\\operatorname{argmax}}}\n",
    "\\newcommand{\\argmin}[1]{\\underset{#1}{\\operatorname{argmin}}}$"
   ]
  },
  {
   "cell_type": "markdown",
   "metadata": {},
   "source": [
    "# Assignment 2: Ridge Regression with K-Fold Cross-Validation"
   ]
  },
  {
   "cell_type": "markdown",
   "metadata": {},
   "source": [
    "*Sean Russell*"
   ]
  },
  {
   "cell_type": "markdown",
   "metadata": {},
   "source": [
    "## Overview"
   ]
  },
  {
   "cell_type": "markdown",
   "metadata": {},
   "source": [
    "In this assignment I modify the train function to accept a lambda for doing ridge regression and create a method that helps identify potentially useful lambdas when creating a new model."
   ]
  },
  {
   "cell_type": "markdown",
   "metadata": {},
   "source": [
    "### Python Implementation"
   ]
  },
  {
   "cell_type": "markdown",
   "metadata": {},
   "source": [
    "Here is the new train method, the only difference being that it takes an argument for lambda and creates the model thusly."
   ]
  },
  {
   "cell_type": "code",
   "execution_count": 1,
   "metadata": {
    "collapsed": true
   },
   "outputs": [],
   "source": [
    "import numpy as np\n",
    "\n",
    "def train(X,T,lamb):\n",
    "    means = X.mean(0)\n",
    "    stds = X.std(0)\n",
    "    n,d = X.shape\n",
    "    Xs1 = np.insert( (X - means)/stds, 0, 1, axis=1)\n",
    "    lambDiag = np.eye(d+1) * lamb\n",
    "    lambDiag[0,0] = 0\n",
    "    w = np.linalg.lstsq( Xs1.T @ Xs1 + lambDiag, Xs1.T @ T)[0]\n",
    "    return {'w': w, 'means':means, 'stds':stds}\n",
    "\n",
    "def use(X,model):\n",
    "    Xs1 = np.insert((X-model['means'])/model['stds'], 0, 1, axis=1)\n",
    "    return Xs1 @ model['w']\n",
    "\n",
    "def rmse(A,B):\n",
    "    return np.sqrt(np.mean( (A-B)**2 ))"
   ]
  },
  {
   "cell_type": "markdown",
   "metadata": {},
   "source": [
    "And the partitionKFolds provided to us"
   ]
  },
  {
   "cell_type": "code",
   "execution_count": 2,
   "metadata": {
    "collapsed": true
   },
   "outputs": [],
   "source": [
    "def partitionKFolds(X,T,nFolds,shuffle=False,nPartitions=3):\n",
    "    '''Usage: for Xtrain,Ttrain,Xval,Tval,Xtest,Ttext in partitionKFolds(X,T,5):'''\n",
    "    # Randomly arrange row indices\n",
    "    rowIndices = np.arange(X.shape[0])\n",
    "    if shuffle:\n",
    "        np.random.shuffle(rowIndices)\n",
    "    # Calculate number of samples in each of the nFolds folds\n",
    "    nSamples = X.shape[0]\n",
    "    nEach = int(nSamples / nFolds)\n",
    "    if nEach == 0:\n",
    "        raise ValueError(\"partitionKFolds: Number of samples in each fold is 0.\")\n",
    "    # Calculate the starting and stopping row index for each fold.\n",
    "    # Store in startsStops as list of (start,stop) pairs\n",
    "    starts = np.arange(0,nEach*nFolds,nEach)\n",
    "    stops = starts + nEach\n",
    "    stops[-1] = nSamples\n",
    "    startsStops = list(zip(starts,stops))\n",
    "    # Repeat with testFold taking each single fold, one at a time\n",
    "    for testFold in range(nFolds):\n",
    "        if nPartitions == 3:\n",
    "            # Repeat with validateFold taking each single fold, except for the testFold\n",
    "            for validateFold in range(nFolds):\n",
    "                if testFold == validateFold:\n",
    "                    continue\n",
    "                # trainFolds are all remaining folds, after selecting test and validate folds\n",
    "                trainFolds = np.setdiff1d(range(nFolds), [testFold,validateFold])\n",
    "                # Construct Xtrain and Ttrain by collecting rows for all trainFolds\n",
    "                rows = []\n",
    "                for tf in trainFolds:\n",
    "                    a,b = startsStops[tf]                \n",
    "                    rows += rowIndices[a:b].tolist()\n",
    "                Xtrain = X[rows,:]\n",
    "                Ttrain = T[rows,:]\n",
    "                # Construct Xvalidate and Tvalidate\n",
    "                a,b = startsStops[validateFold]\n",
    "                rows = rowIndices[a:b]\n",
    "                Xvalidate = X[rows,:]\n",
    "                Tvalidate = T[rows,:]\n",
    "                # Construct Xtest and Ttest\n",
    "                a,b = startsStops[testFold]\n",
    "                rows = rowIndices[a:b]\n",
    "                Xtest = X[rows,:]\n",
    "                Ttest = T[rows,:]\n",
    "                # Return partition matrices, then suspend until called again.\n",
    "                yield Xtrain,Ttrain,Xvalidate,Tvalidate,Xtest,Ttest,testFold\n",
    "        else:\n",
    "            # trainFolds are all remaining folds, after selecting test and validate folds\n",
    "            trainFolds = np.setdiff1d(range(nFolds), [testFold])\n",
    "            # Construct Xtrain and Ttrain by collecting rows for all trainFolds\n",
    "            rows = []\n",
    "            for tf in trainFolds:\n",
    "                a,b = startsStops[tf]                \n",
    "                rows += rowIndices[a:b].tolist()\n",
    "            Xtrain = X[rows,:]\n",
    "            Ttrain = T[rows,:]\n",
    "            # Construct Xtest and Ttest\n",
    "            a,b = startsStops[testFold]\n",
    "            rows = rowIndices[a:b]\n",
    "            Xtest = X[rows,:]\n",
    "            Ttest = T[rows,:]\n",
    "            # Return partition matrices, then suspend until called again.\n",
    "            yield Xtrain,Ttrain,Xtest,Ttest,testFold"
   ]
  },
  {
   "cell_type": "markdown",
   "metadata": {},
   "source": [
    "This multipleLambdas method does a whole bunch of partitioning of the data using the partitionKFolds from above and then tests our linear model using several lambdas for each different partitioning. Then it preserves the best lambda from each partition of data and returns that in a list with information on the errors."
   ]
  },
  {
   "cell_type": "code",
   "execution_count": 3,
   "metadata": {
    "collapsed": false,
    "scrolled": true
   },
   "outputs": [],
   "source": [
    "def multipleLambdas(X, T, nFolds, lambdas=[0]):\n",
    "    foldCount = 0\n",
    "    results = []\n",
    "    for Xtrain,Ttrain,Xval,Tval,Xtest,Ttest,_ in partitionKFolds(X,T,4,shuffle=True):\n",
    "        for lamb in lambdas:\n",
    "            model = train(Xtrain,Ttrain,lamb)\n",
    "            predictTrain = use(Xtrain,model)\n",
    "            errorTrain = rmse(Ttrain,predictTrain)\n",
    "            predictVal = use(Xval,model)\n",
    "            errorVal = rmse(Tval,predictVal)\n",
    "            predictTest = use(Xtest,model)\n",
    "            errorTest = rmse(Ttest,predictTest)\n",
    "            result = [foldCount,lamb,errorTrain,errorVal,errorTest]\n",
    "            results.append(result)\n",
    "        foldCount += 1\n",
    "    r = np.array(results)\n",
    "    bestResults = []\n",
    "    splitByFold = np.split(r,foldCount,axis=0)\n",
    "    for fold in splitByFold:\n",
    "        bestResults.append(fold[np.argmin(fold,axis=0)[3]])\n",
    "    return np.array(bestResults)"
   ]
  },
  {
   "cell_type": "markdown",
   "metadata": {},
   "source": [
    "## Data and Results"
   ]
  },
  {
   "cell_type": "markdown",
   "metadata": {},
   "source": [
    "In my previous assignment, I used atmospheric data on a power plant to predict electric output provided by the UCI machine learning repository. The model for created by linear regression was very good and I think it is unlikely that ridge regression will do much better, but I am interested to see what happens. So, here I'm loading the data in from the spreadsheet."
   ]
  },
  {
   "cell_type": "code",
   "execution_count": 4,
   "metadata": {
    "collapsed": false
   },
   "outputs": [],
   "source": [
    "import xlrd\n",
    "import matplotlib.pyplot as plt\n",
    "import matplotlib.ticker as ticker\n",
    "%matplotlib inline\n",
    "\n",
    "path = './CCPP/Folds5x2_pp.xlsx'\n",
    "workbook = xlrd.open_workbook(path)\n",
    "\n",
    "worksheet = workbook.sheet_by_index(0)\n",
    "labels = ['Ambient Temperature (C)','Exhaust Steam (cm Hg)','Ambient Pressure (millibar)',\n",
    "          'Relative Humidity (%)','Electrical Output (MW)']\n",
    "data = np.zeros((worksheet.nrows-1,5))\n",
    "\n",
    "for i in range(1,worksheet.nrows):\n",
    "    for j in range(0,5):\n",
    "        data[i-1][j] = float(worksheet.cell_value(i,j))\n",
    "\n",
    "X = data[:,:4]\n",
    "T = data[:,4,None]"
   ]
  },
  {
   "cell_type": "markdown",
   "metadata": {},
   "source": [
    "And lets see what happens when we run the ridge regression a whole bunch of times..."
   ]
  },
  {
   "cell_type": "code",
   "execution_count": 5,
   "metadata": {
    "collapsed": false
   },
   "outputs": [
    {
     "data": {
      "text/plain": [
       "array([[  0.        ,   4.57005925,   4.48658483,   4.6102319 ],\n",
       "       [ 20.        ,   4.51152696,   4.6034522 ,   4.6116578 ],\n",
       "       [ 16.        ,   4.54279161,   4.54134393,   4.60449449],\n",
       "       [  0.        ,   4.57005925,   4.6102319 ,   4.48658483],\n",
       "       [ 12.        ,   4.57280936,   4.60123713,   4.48703807],\n",
       "       [  4.        ,   4.60068396,   4.54822129,   4.4871153 ],\n",
       "       [  2.        ,   4.50948579,   4.61014635,   4.60514645],\n",
       "       [  0.        ,   4.57208315,   4.48275581,   4.60186178],\n",
       "       [ 26.        ,   4.54277942,   4.54779101,   4.60312124],\n",
       "       [  2.        ,   4.54154193,   4.60365965,   4.54236827],\n",
       "       [  0.        ,   4.60060548,   4.48573815,   4.54827915],\n",
       "       [ 30.        ,   4.54382657,   4.60302046,   4.54786365],\n",
       "       [  0.        ,   4.63955192,   4.55807486,   4.38733392],\n",
       "       [  0.        ,   4.62550557,   4.58929851,   4.39154282],\n",
       "       [ 20.        ,   4.57224317,   4.69577707,   4.38660298],\n",
       "       [ 10.        ,   4.64007677,   4.38671605,   4.55876885],\n",
       "       [  0.        ,   4.54230887,   4.58728055,   4.56000215],\n",
       "       [ 14.        ,   4.48481003,   4.7009795 ,   4.56413689],\n",
       "       [  6.        ,   4.62569165,   4.391409  ,   4.59067877],\n",
       "       [  0.        ,   4.54230887,   4.56000215,   4.58728055],\n",
       "       [  8.        ,   4.47313917,   4.6954382 ,   4.58583743],\n",
       "       [ 18.        ,   4.57186517,   4.38658225,   4.69579668],\n",
       "       [  0.        ,   4.48383468,   4.56315581,   4.70194889],\n",
       "       [  0.        ,   4.47282307,   4.58408712,   4.69577061],\n",
       "       [  0.        ,   4.6010737 ,   4.56162097,   4.46737476],\n",
       "       [  0.        ,   4.56992432,   4.62298353,   4.46748322],\n",
       "       [ 46.        ,   4.59456049,   4.58588803,   4.46976322],\n",
       "       [ 14.        ,   4.60200768,   4.46654002,   4.56553168],\n",
       "       [  0.        ,   4.52299837,   4.62812795,   4.56691674],\n",
       "       [ 30.        ,   4.54696067,   4.58232176,   4.5689128 ],\n",
       "       [ 12.        ,   4.57064769,   4.46673915,   4.62664888],\n",
       "       [  0.        ,   4.52299837,   4.56691674,   4.62812795],\n",
       "       [ 28.        ,   4.51472034,   4.58368819,   4.63152963],\n",
       "       [ 36.        ,   4.59085408,   4.46929543,   4.58634399],\n",
       "       [  0.        ,   4.54269957,   4.55981509,   4.58629846],\n",
       "       [  0.        ,   4.51078588,   4.62210539,   4.58763179],\n",
       "       [  0.        ,   4.58108244,   4.4927053 ,   4.58181311],\n",
       "       [  0.        ,   4.51090349,   4.63538313,   4.58108213],\n",
       "       [ 10.        ,   4.5572042 ,   4.54513452,   4.57407563],\n",
       "       [  0.        ,   4.58108244,   4.58181311,   4.4927053 ],\n",
       "       [  0.        ,   4.55553347,   4.63192569,   4.48833661],\n",
       "       [  6.        ,   4.59777413,   4.55159204,   4.49165848],\n",
       "       [  0.        ,   4.51090349,   4.58108213,   4.63538313],\n",
       "       [  0.        ,   4.55553347,   4.48833661,   4.63192569],\n",
       "       [ 10.        ,   4.52923345,   4.54742078,   4.63111974],\n",
       "       [  2.        ,   4.55669751,   4.57374385,   4.54539614],\n",
       "       [  0.        ,   4.59758411,   4.49111978,   4.55183559],\n",
       "       [  2.        ,   4.52873636,   4.63078171,   4.54771548],\n",
       "       [  0.        ,   4.5790279 ,   4.6384882 ,   4.43453838],\n",
       "       [  2.        ,   4.6306997 ,   4.53473425,   4.43075682],\n",
       "       [  6.        ,   4.5835934 ,   4.62899191,   4.43226296],\n",
       "       [  0.        ,   4.5790279 ,   4.43453838,   4.6384882 ],\n",
       "       [  2.        ,   4.529861  ,   4.53476938,   4.63489434],\n",
       "       [  6.        ,   4.48191574,   4.62837912,   4.63574183],\n",
       "       [  0.        ,   4.63067925,   4.43065013,   4.53475368],\n",
       "       [  0.        ,   4.52984103,   4.6347901 ,   4.53479538],\n",
       "       [  8.        ,   4.53306159,   4.62961966,   4.53672759],\n",
       "       [  0.        ,   4.58339903,   4.43187903,   4.6291631 ],\n",
       "       [  0.        ,   4.48172609,   4.63532171,   4.62851636],\n",
       "       [  6.        ,   4.53291465,   4.53669666,   4.62963936],\n",
       "       [  0.        ,   4.51229104,   4.59221322,   4.61245085],\n",
       "       [ 20.        ,   4.56621137,   4.48746062,   4.61368029],\n",
       "       [  0.        ,   4.53976988,   4.53854948,   4.61339608],\n",
       "       [  0.        ,   4.51229104,   4.61245085,   4.59221322],\n",
       "       [ 18.        ,   4.57438833,   4.48952771,   4.59594781],\n",
       "       [  0.        ,   4.54834881,   4.54019853,   4.594728  ],\n",
       "       [  6.        ,   4.5644226 ,   4.612848  ,   4.48840061],\n",
       "       [  0.        ,   4.5727507 ,   4.59446167,   4.49111584],\n",
       "       [  0.        ,   4.60069927,   4.53835036,   4.4894788 ],\n",
       "       [  0.        ,   4.53976988,   4.61339608,   4.53854948],\n",
       "       [  0.        ,   4.54834881,   4.594728  ,   4.54019853],\n",
       "       [ 14.        ,   4.60170345,   4.48829209,   4.54035471],\n",
       "       [  0.        ,   4.54229611,   4.54571534,   4.60143802],\n",
       "       [ 18.        ,   4.53879816,   4.55520049,   4.60116596],\n",
       "       [  0.        ,   4.54927267,   4.53146473,   4.60071265],\n",
       "       [  0.        ,   4.54229611,   4.60143802,   4.54571534],\n",
       "       [ 18.        ,   4.56527586,   4.55707615,   4.54706156],\n",
       "       [  0.        ,   4.57647777,   4.53141485,   4.54495534],\n",
       "       [  0.        ,   4.53719125,   4.59822403,   4.55662765],\n",
       "       [  0.        ,   4.56375563,   4.54465499,   4.55865   ],\n",
       "       [ 12.        ,   4.5709711 ,   4.53113556,   4.55726445],\n",
       "       [  0.        ,   4.54927267,   4.60071265,   4.53146473],\n",
       "       [  0.        ,   4.57647777,   4.54495534,   4.53141485],\n",
       "       [ 24.        ,   4.57306431,   4.55664081,   4.53186725],\n",
       "       [  2.        ,   4.55602955,   4.57450577,   4.54248588],\n",
       "       [  0.        ,   4.53071611,   4.62605759,   4.54577692],\n",
       "       [ 28.        ,   4.60120014,   4.4878605 ,   4.54718727],\n",
       "       [  0.        ,   4.55600929,   4.54239941,   4.5745427 ],\n",
       "       [  0.        ,   4.51472551,   4.62496792,   4.57674951],\n",
       "       [ 32.        ,   4.58549679,   4.48865418,   4.57884117],\n",
       "       [  0.        ,   4.53071611,   4.54577692,   4.62605759],\n",
       "       [  0.        ,   4.51472551,   4.57674951,   4.62496792],\n",
       "       [ 20.        ,   4.55999555,   4.48740893,   4.62845564],\n",
       "       [  4.        ,   4.5974822 ,   4.54443456,   4.49066238],\n",
       "       [ 14.        ,   4.58164265,   4.57757243,   4.49015475],\n",
       "       [  0.        ,   4.55798025,   4.62269065,   4.48941383]])"
      ]
     },
     "execution_count": 5,
     "metadata": {},
     "output_type": "execute_result"
    }
   ],
   "source": [
    "results = multipleLambdas(X,T,4,range(0,50,2))\n",
    "results = np.append(results,multipleLambdas(X,T,4,range(0,50,2)),axis=0)\n",
    "results = np.append(results,multipleLambdas(X,T,4,range(0,50,2)),axis=0)\n",
    "results = np.append(results,multipleLambdas(X,T,4,range(0,50,2)),axis=0)\n",
    "results = np.append(results,multipleLambdas(X,T,4,range(0,50,2)),axis=0)\n",
    "results = np.append(results,multipleLambdas(X,T,4,range(0,50,2)),axis=0)\n",
    "results = np.append(results,multipleLambdas(X,T,4,range(0,50,2)),axis=0)\n",
    "results = np.append(results,multipleLambdas(X,T,4,range(0,50,2)),axis=0)[:,1:]\n",
    "results"
   ]
  },
  {
   "cell_type": "markdown",
   "metadata": {},
   "source": [
    "After running this a bunch of times, it seems as if the range of lambdas from 15 to 20 pops up with fair frequency, however it is rare to see anything much higher than this. Additionally, the range of error stays very consistent across train, validation, and testing data as well as across different folds, perhaps indicating that there are not many outliers in this dataset. Next, I try plotting the lambdas as a histogram to see if there are areas that contain good lambdas."
   ]
  },
  {
   "cell_type": "code",
   "execution_count": 6,
   "metadata": {
    "collapsed": false
   },
   "outputs": [
    {
     "data": {
      "image/png": "[encoded data removed]",
      "text/plain": [
       "<matplotlib.figure.Figure at 0x109d946a0>"
      ]
     },
     "metadata": {},
     "output_type": "display_data"
    }
   ],
   "source": [
    "plt.hist(results[:,0]);"
   ]
  },
  {
   "cell_type": "markdown",
   "metadata": {},
   "source": [
    "So my initial guess about low lambdas was more or less right. There are a couple outliers further out, but for the most part a good lambda would be less than five. However, maybe a good lambda is slightly above zero?"
   ]
  },
  {
   "cell_type": "code",
   "execution_count": 7,
   "metadata": {
    "collapsed": false
   },
   "outputs": [
    {
     "data": {
      "image/png": "[encoded data removed]",
      "text/plain": [
       "<matplotlib.figure.Figure at 0x109d8cfd0>"
      ]
     },
     "metadata": {},
     "output_type": "display_data"
    }
   ],
   "source": [
    "results = multipleLambdas(X,T,4,range(0,10))\n",
    "results = np.append(results,multipleLambdas(X,T,4,range(0,10)),axis=0)\n",
    "results = np.append(results,multipleLambdas(X,T,4,range(0,10)),axis=0)\n",
    "results = np.append(results,multipleLambdas(X,T,4,range(0,10)),axis=0)\n",
    "results = np.append(results,multipleLambdas(X,T,4,range(0,10)),axis=0)\n",
    "results = np.append(results,multipleLambdas(X,T,4,range(0,10)),axis=0)\n",
    "results = np.append(results,multipleLambdas(X,T,4,range(0,10)),axis=0)\n",
    "results = np.append(results,multipleLambdas(X,T,4,range(0,10)),axis=0)[:,1:]\n",
    "plt.hist(results[:,0]);"
   ]
  },
  {
   "cell_type": "markdown",
   "metadata": {},
   "source": [
    "So running this cell a bunch of times reveals that the giant spike where lambda equals 9 is not a fluke. While it is still not quite as ideal as lambda equals 0, perhaps if upon new data being added the error was increasing, a lambda of 9 could be chosen. Next I wanted to see if plotting the various errors against the lambdas would be illuminating."
   ]
  },
  {
   "cell_type": "code",
   "execution_count": 8,
   "metadata": {
    "collapsed": false
   },
   "outputs": [
    {
     "data": {
      "image/png": "[encoded data removed]",
      "text/plain": [
       "<matplotlib.figure.Figure at 0x10be9f978>"
      ]
     },
     "metadata": {},
     "output_type": "display_data"
    }
   ],
   "source": [
    "labels = [\"Lambda\",\"Train\",\"Validate\",\"Test\"]\n",
    "\n",
    "results = results[results[:, 0].argsort()]\n",
    "for i in range(0,3):\n",
    "    ax = plt.subplot(2,2, i+1)\n",
    "    plt.plot(results[:,0],results[:,i+1],'o')\n",
    "    plt.ylabel(labels[i+1])\n",
    "    plt.xlabel(labels[0])\n",
    "#    ax.xaxis.set_major_locator(ticker.MultipleLocator(10))\n",
    "    \n",
    "    \n",
    "\n",
    "plt.tight_layout()"
   ]
  },
  {
   "cell_type": "markdown",
   "metadata": {},
   "source": [
    "Can't say this reveals any particular insights. No pattern is immediately evident from these graphs."
   ]
  },
  {
   "cell_type": "markdown",
   "metadata": {},
   "source": [
    "So, it seems like basic linear regression is all that is needed for this particular dataset. Perhaps a lambda of 9 could be selected if this model proves to lack resilience in the face of new data, but until then the old way is the best way"
   ]
  },
  {
   "cell_type": "code",
   "execution_count": 9,
   "metadata": {
    "collapsed": false
   },
   "outputs": [
    {
     "name": "stdout",
     "output_type": "stream",
     "text": [
      " Testing:\n",
      "X = np.arange(20).reshape((-1,1))\n",
      "T = np.abs(X -10) + X\n",
      "for Xtrain,Ttrain,Xval,Tval,Xtest,Ttest,_ in partitionKFolds(X,T,5,shuffle=False,nPartitions=3)\n",
      "20/20 points. partitionKFolds produced 20 partitions. Correct.\n",
      "10/10 points. Final training set contains 12 samples. Correct.\n",
      "10/10 points. Final validation set contains 4 samples. Correct.\n",
      "Testing:\n",
      "X = np.linspace(0,100,1000).reshape((-1,1))\n",
      "T = X * 0.1\n",
      "results = multipleLambdas(X,T,4,range(0,10))\n",
      "20/20 points. All best lambdas are 0.  Correct.\n",
      "20/20 points. Mean of all train, validation and test errors for best lambda are correct.\n",
      "\n",
      "cs480 Grade is 80/100\n",
      "Up to 20 more points will be given based on the qualty of your descriptions of the method and the results.\n"
     ]
    }
   ],
   "source": [
    "%run -i \"A2grader.py\""
   ]
  }
 ],
 "metadata": {
  "anaconda-cloud": {},
  "kernelspec": {
   "display_name": "Python [default]",
   "language": "python",
   "name": "python3"
  },
  "language_info": {
   "codemirror_mode": {
    "name": "ipython",
    "version": 3
   },
   "file_extension": ".py",
   "mimetype": "text/x-python",
   "name": "python",
   "nbconvert_exporter": "python",
   "pygments_lexer": "ipython3",
   "version": "3.5.2"
  }
 },
 "nbformat": 4,
 "nbformat_minor": 0
}
