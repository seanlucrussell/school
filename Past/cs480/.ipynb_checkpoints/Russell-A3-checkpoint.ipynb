{
 "cells": [
  {
   "cell_type": "markdown",
   "metadata": {},
   "source": [
    "$\\newcommand{\\xv}{\\mathbf{x}}\n",
    "\\newcommand{\\Xv}{\\mathbf{X}}\n",
    "\\newcommand{\\yv}{\\mathbf{y}}\n",
    "\\newcommand{\\zv}{\\mathbf{z}}\n",
    "\\newcommand{\\av}{\\mathbf{a}}\n",
    "\\newcommand{\\Wv}{\\mathbf{W}}\n",
    "\\newcommand{\\wv}{\\mathbf{w}}\n",
    "\\newcommand{\\tv}{\\mathbf{t}}\n",
    "\\newcommand{\\Tv}{\\mathbf{T}}\n",
    "\\newcommand{\\muv}{\\boldsymbol{\\mu}}\n",
    "\\newcommand{\\sigmav}{\\boldsymbol{\\sigma}}\n",
    "\\newcommand{\\phiv}{\\boldsymbol{\\phi}}\n",
    "\\newcommand{\\Phiv}{\\boldsymbol{\\Phi}}\n",
    "\\newcommand{\\Sigmav}{\\boldsymbol{\\Sigma}}\n",
    "\\newcommand{\\Lambdav}{\\boldsymbol{\\Lambda}}\n",
    "\\newcommand{\\half}{\\frac{1}{2}}\n",
    "\\newcommand{\\argmax}[1]{\\underset{#1}{\\operatorname{argmax}}}\n",
    "\\newcommand{\\argmin}[1]{\\underset{#1}{\\operatorname{argmin}}}$"
   ]
  },
  {
   "cell_type": "markdown",
   "metadata": {},
   "source": [
    "# Assignment 3: Neural Network Regression"
   ]
  },
  {
   "cell_type": "markdown",
   "metadata": {},
   "source": [
    "*Sean Russell*"
   ]
  },
  {
   "cell_type": "markdown",
   "metadata": {},
   "source": [
    "Sorry, got my time management all wrong. Thus all I have for you is code."
   ]
  },
  {
   "cell_type": "markdown",
   "metadata": {},
   "source": [
    "## Python Implementations"
   ]
  },
  {
   "cell_type": "code",
   "execution_count": 1,
   "metadata": {
    "collapsed": false
   },
   "outputs": [],
   "source": [
    "import neuralnetworks as nn\n",
    "import numpy as np"
   ]
  },
  {
   "cell_type": "code",
   "execution_count": 2,
   "metadata": {
    "collapsed": true
   },
   "outputs": [],
   "source": [
    "def trainLinear(X,T,lamb):\n",
    "    means = X.mean(0)\n",
    "    stds = X.std(0)\n",
    "    n,d = X.shape\n",
    "    Xs1 = np.insert( (X - means)/stds, 0, 1, axis=1)\n",
    "    lambDiag = np.eye(d+1) * lamb\n",
    "    lambDiag[0,0] = 0\n",
    "    w = np.linalg.lstsq( Xs1.T @ Xs1 + lambDiag, Xs1.T @ T)[0]\n",
    "    return {'w': w, 'means':means, 'stds':stds}\n",
    "\n",
    "def evaluateLinear(model,X,T):\n",
    "    Xs1 = np.insert((X-model['means'])/model['stds'], 0, 1, axis=1)\n",
    "    evalT = Xs1 @ model['w']\n",
    "    return np.sqrt(np.mean( (evalT-T)**2 ))\n",
    "\n",
    "def trainNN(X,T,parameters):\n",
    "    # parameters is list of number of hidden layers and nodes and number of iterations to train\n",
    "    # looks like [hidden layer, number of iterations]\n",
    "    # where hidden layer could be integer or list\n",
    "    nnet = nn.NeuralNetwork(1, parameters[0], 1)  # 1 input, 5 hidden units, 1 output\n",
    "    nnet.train(X, T, nIterations=parameters[1])\n",
    "    return nnet\n",
    "\n",
    "def evaluateNN(model,X,T):\n",
    "    predict = model.use(X)\n",
    "    return np.sqrt(np.mean((predict - T)**2))"
   ]
  },
  {
   "cell_type": "code",
   "execution_count": 3,
   "metadata": {
    "collapsed": false
   },
   "outputs": [],
   "source": [
    "def trainValidateTestKFolds(trainf,evaluatef,X,T,parameterSets,nFolds,\n",
    "                            shuffle=False,verbose=False):\n",
    "    # Randomly arrange row indices\n",
    "    rowIndices = np.arange(X.shape[0])\n",
    "    if shuffle:\n",
    "        np.random.shuffle(rowIndices)\n",
    "    # Calculate number of samples in each of the nFolds folds\n",
    "    nSamples = X.shape[0]\n",
    "    nEach = int(nSamples / nFolds)\n",
    "    if nEach == 0:\n",
    "        raise ValueError(\"partitionKFolds: Number of samples in each fold is 0.\")\n",
    "    # Calculate the starting and stopping row index for each fold.\n",
    "    # Store in startsStops as list of (start,stop) pairs\n",
    "    starts = np.arange(0,nEach*nFolds,nEach)\n",
    "    stops = starts + nEach\n",
    "    stops[-1] = nSamples\n",
    "    startsStops = list(zip(starts,stops))\n",
    "    # Repeat with testFold taking each single fold, one at a time\n",
    "    results = []\n",
    "\n",
    "    # COMPLETE THIS FUNCTION BY IMPLEMENTING THE FOLLOWING STEPS.\n",
    "\n",
    "    # For each test fold\n",
    "    for n in range(nFolds):\n",
    "        testX = X[slice(*startsStops[n]),:]\n",
    "        testT = T[slice(*startsStops[n]),:]\n",
    "        valError = float(\"inf\")\n",
    "        bestParm = parameterSets[0]\n",
    "        for parmSet in parameterSets:\n",
    "            errors = []\n",
    "            for i in range(nFolds):\n",
    "                if i == n:\n",
    "                    continue\n",
    "                \n",
    "                valX = X[slice(*startsStops[i]),:]\n",
    "                valT = T[slice(*startsStops[i]),:]\n",
    "                trainX = np.delete(np.delete(X,slice(*startsStops[i]),0),slice(*startsStops[n]),0)\n",
    "                trainT = np.delete(np.delete(T,slice(*startsStops[i]),0),slice(*startsStops[n]),0)\n",
    "                if (n > i):\n",
    "                    trainX = np.delete(np.delete(X,slice(*startsStops[n]),0),slice(*startsStops[i]),0)\n",
    "                    trainT = np.delete(np.delete(T,slice(*startsStops[n]),0),slice(*startsStops[i]),0)\n",
    "                model = trainf(trainX,trainT,parmSet)\n",
    "                errors.append(evaluatef(model,valX,valT))\n",
    "            \n",
    "            meanError = sum(errors)/len(errors)\n",
    "            if meanError < valError:\n",
    "                valError = meanError\n",
    "                bestParm = parmSet\n",
    "        \n",
    "        trainX = np.delete(X,slice(*startsStops[n]),0)\n",
    "        trainT = np.delete(T,slice(*startsStops[n]),0)\n",
    "        testModel = trainf(trainX,trainT,bestParm)\n",
    "        trainError = evaluatef(testModel,trainX,trainT)\n",
    "        testError = evaluatef(testModel,testX,testT)\n",
    "        testResults = [bestParm,trainError,valError,testError]\n",
    "        results.append(testResults)\n",
    "        if verbose:\n",
    "            print (testResults)\n",
    "    \n",
    "    return results"
   ]
  },
  {
   "cell_type": "code",
   "execution_count": 4,
   "metadata": {
    "collapsed": false,
    "scrolled": true
   },
   "outputs": [
    {
     "name": "stdout",
     "output_type": "stream",
     "text": [
      " Testing: result = trainValidateTestKFolds(trainLinear,evaluateLinear,X,T,\n",
      "                  range(0,101,10),nFolds=5,shuffle=False)\n",
      " Your result is\n",
      "    10   3.158   4.132   2.414\n",
      "    20   4.368   5.021   3.641\n",
      "    10   3.245   4.178   5.03\n",
      "    20   4.448   6.07   2.024\n",
      "    20   2.426   2.972   10.89\n",
      "20/20 points. First column, of best lambda values, is correct.\n",
      "20/20 points. Columns of RMSE values are correct.\n",
      "\n",
      " Testing:\n",
      "   import itertools\n",
      "   parms = list(itertools.product([[5],[5,5],[2,2,2]], [10,50,100,200]))\n",
      "   te = []\n",
      "   for rep in range(5):\n",
      "       result = trainValidateTestKFolds(trainNN,evaluateNN,X,T,\n",
      "                                        parms,\n",
      "                                        nFolds=4,shuffle=False)\n",
      "       resulte = np.array([r[1:] for r in result])\n",
      "       meanTestRMSE = resulte[:,-1].mean()\n",
      "       print('     ',meanTestRMSE)\n",
      "       te.append(meanTestRMSE)\n",
      "      1.68887330008\n",
      "      1.54186238162\n",
      "      1.27425834675\n",
      "      1.6353607673\n",
      "      1.79208214933\n",
      "40/40 points. Mean test RMSE is less than 5 as it should be.\n",
      "\n",
      "cs480 Grade is 80/100\n",
      "Up to 20 more points will be given based on the qualty of your descriptions of the method and the results.\n"
     ]
    }
   ],
   "source": [
    "%run -i \"A3grader.py\""
   ]
  }
 ],
 "metadata": {
  "anaconda-cloud": {},
  "kernelspec": {
   "display_name": "Python [default]",
   "language": "python",
   "name": "python3"
  },
  "language_info": {
   "codemirror_mode": {
    "name": "ipython",
    "version": 3
   },
   "file_extension": ".py",
   "mimetype": "text/x-python",
   "name": "python",
   "nbconvert_exporter": "python",
   "pygments_lexer": "ipython3",
   "version": "3.5.2"
  }
 },
 "nbformat": 4,
 "nbformat_minor": 0
}
