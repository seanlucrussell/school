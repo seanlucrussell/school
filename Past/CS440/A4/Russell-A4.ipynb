{
 "cells": [
  {
   "cell_type": "markdown",
   "metadata": {},
   "source": [
    "# Assignment 4: Negamax with Alpha-Beta Pruning and Iterative Deepening"
   ]
  },
  {
   "cell_type": "markdown",
   "metadata": {},
   "source": [
    "# Table of Contents\n",
    "* [Assignment 4: Negamax with Alpha-Beta Pruning and Iterative Deepening](#Assignment-4:-Negamax-with-Alpha-Beta-Pruning-and-Iterative-Deepening)\n",
    "\t* [Initial Code](#Initial-Code)\n",
    "\t* [Add moves counter](#Add-moves-counter)\n",
    "\t* [negamaxIDS](#negamaxIDS)\n",
    "\t* [negamaxIDSab](#negamaxIDSab)\n",
    "\t* [Grading](#Grading)\n",
    "\t* [Extra Credit](#Extra-Credit)\n"
   ]
  },
  {
   "cell_type": "code",
   "execution_count": 1,
   "metadata": {
    "collapsed": true
   },
   "outputs": [],
   "source": [
    "def negamax(game, depthLeft):\n",
    "    # If at terminal state or depth limit, return utility value and move None\n",
    "    if game.isOver() or depthLeft == 0:\n",
    "        return game.getUtility(), None # call to negamax knows the move\n",
    "    # Find best move and its value from current state\n",
    "    bestValue, bestMove = None, None\n",
    "    for move in game.getMoves():\n",
    "        # Apply a move to current state\n",
    "        game.makeMove(move)\n",
    "        # Use depth-first search to find eventual utility value and back it up.\n",
    "        #  Negate it because it will come back in context of next player\n",
    "        value, _ = negamax(game, depthLeft-1)\n",
    "        # Remove the move from current state, to prepare for trying a different move\n",
    "        game.unmakeMove(move)\n",
    "        if value is None:\n",
    "            continue\n",
    "        value = - value\n",
    "        if bestValue is None or value > bestValue:\n",
    "            # Value for this move is better than moves tried so far from this state.\n",
    "            bestValue, bestMove = value, move\n",
    "    return bestValue, bestMove"
   ]
  },
  {
   "cell_type": "code",
   "execution_count": 10,
   "metadata": {
    "collapsed": true
   },
   "outputs": [],
   "source": [
    "class TTT(object):\n",
    "\n",
    "    def __init__(self):\n",
    "        self.movesExplored = 0\n",
    "        self.board = [' ']*9\n",
    "        self.player = 'X'\n",
    "        if True:\n",
    "            self.board = ['X', 'X', ' ', 'X', 'O', 'O', ' ', ' ', ' ']\n",
    "            self.player = 'O'\n",
    "        self.playerLookAHead = self.player\n",
    "\n",
    "    def locations(self, c):\n",
    "        return [i for i, mark in enumerate(self.board) if mark == c]\n",
    "\n",
    "    def getMoves(self):\n",
    "        moves = self.locations(' ')\n",
    "        return moves\n",
    "\n",
    "    def getUtility(self):\n",
    "        whereX = self.locations('X')\n",
    "        whereO = self.locations('O')\n",
    "        wins = [[0, 1, 2], [3, 4, 5], [6, 7, 8],\n",
    "                [0, 3, 6], [1, 4, 7], [2, 5, 8],\n",
    "                [0, 4, 8], [2, 4, 6]]\n",
    "        isXWon = any([all([wi in whereX for wi in w]) for w in wins])\n",
    "        isOWon = any([all([wi in whereO for wi in w]) for w in wins])\n",
    "        if isXWon:\n",
    "            return 1 if self.playerLookAHead is 'X' else -1\n",
    "        elif isOWon:\n",
    "            return 1 if self.playerLookAHead is 'O' else -1\n",
    "        elif ' ' not in self.board:\n",
    "            return 0\n",
    "        else:\n",
    "            return None  ########################################################## CHANGED FROM -0.1\n",
    "\n",
    "    def isOver(self):\n",
    "        return self.getUtility() is not None\n",
    "\n",
    "    def makeMove(self, move):\n",
    "        self.movesExplored += 1\n",
    "        self.board[move] = self.playerLookAHead\n",
    "        self.playerLookAHead = 'X' if self.playerLookAHead == 'O' else 'O'\n",
    "\n",
    "    def changePlayer(self):\n",
    "        self.player = 'X' if self.player == 'O' else 'O'\n",
    "        self.playerLookAHead = self.player\n",
    "\n",
    "    def unmakeMove(self, move):\n",
    "        self.board[move] = ' '\n",
    "        self.playerLookAHead = 'X' if self.playerLookAHead == 'O' else 'O'\n",
    "\n",
    "    def __str__(self):\n",
    "        s = '{}|{}|{}\\n-----\\n{}|{}|{}\\n-----\\n{}|{}|{}'.format(*self.board)\n",
    "        return s\n",
    "    \n",
    "    def getWinningValue(self):\n",
    "        return 1\n",
    "    \n",
    "    def getNumberMovesExplored(self):\n",
    "        return self.movesExplored"
   ]
  },
  {
   "cell_type": "markdown",
   "metadata": {},
   "source": [
    "Check that the following function `playGame` runs\n",
    "correctly. Notice that we are using *negamax* to find the best move for\n",
    "Player X, but Player O, the opponent, is using function *opponent*\n",
    "that follows the silly strategy of playing in the first open position."
   ]
  },
  {
   "cell_type": "code",
   "execution_count": 3,
   "metadata": {
    "collapsed": true
   },
   "outputs": [],
   "source": [
    "def opponent(board):\n",
    "    return board.index(' ')\n",
    "\n",
    "def playGame(game,opponent,depthLimit):\n",
    "    print(game)\n",
    "    while not game.isOver():\n",
    "        score,move = negamax(game,depthLimit)\n",
    "        if move == None :\n",
    "            print('move is None. Stopping.')\n",
    "            break\n",
    "        game.makeMove(move)\n",
    "        print('Player', game.player, 'to', move, 'for score' ,score)\n",
    "        print(game)\n",
    "        if not game.isOver():\n",
    "            game.changePlayer()\n",
    "            opponentMove = opponent(game.board)\n",
    "            game.makeMove(opponentMove)\n",
    "            print('Player', game.player, 'to', opponentMove)   ### FIXED ERROR IN THIS LINE!\n",
    "            print(game)\n",
    "            game.changePlayer()"
   ]
  },
  {
   "cell_type": "code",
   "execution_count": 4,
   "metadata": {
    "collapsed": false
   },
   "outputs": [
    {
     "name": "stdout",
     "output_type": "stream",
     "text": [
      " | | \n",
      "-----\n",
      " | | \n",
      "-----\n",
      " | | \n",
      "Player X to 0 for score 0\n",
      "X| | \n",
      "-----\n",
      " | | \n",
      "-----\n",
      " | | \n",
      "Player O to 1\n",
      "X|O| \n",
      "-----\n",
      " | | \n",
      "-----\n",
      " | | \n",
      "Player X to 3 for score 1\n",
      "X|O| \n",
      "-----\n",
      "X| | \n",
      "-----\n",
      " | | \n",
      "Player O to 2\n",
      "X|O|O\n",
      "-----\n",
      "X| | \n",
      "-----\n",
      " | | \n",
      "Player X to 4 for score 1\n",
      "X|O|O\n",
      "-----\n",
      "X|X| \n",
      "-----\n",
      " | | \n",
      "Player O to 5\n",
      "X|O|O\n",
      "-----\n",
      "X|X|O\n",
      "-----\n",
      " | | \n",
      "Player X to 6 for score 1\n",
      "X|O|O\n",
      "-----\n",
      "X|X|O\n",
      "-----\n",
      "X| | \n"
     ]
    }
   ],
   "source": [
    "game = TTT()\n",
    "playGame(game,opponent,20)"
   ]
  },
  {
   "cell_type": "markdown",
   "metadata": {},
   "source": [
    "## Add moves counter"
   ]
  },
  {
   "cell_type": "markdown",
   "metadata": {},
   "source": [
    "Evaluate the efficiency of the search by keepting track of the number of nodes explored, which is the same as the number of moves explored, during a game. Do this by adding a counter named `movesExplored` to the `TTT` constructor where it is initialized to 0 and increment the counter in the `TTT.makeMove` method.  Add a method `ttt.getNumberMovesExplored()` to get its current value.  So\n",
    "\n",
    "    print('Number of moves explored', game.getMovesExplored())\n",
    "    \n",
    "will print the number of moves explored. You will not use a global variable for counting this time."
   ]
  },
  {
   "cell_type": "markdown",
   "metadata": {},
   "source": [
    "## negamaxIDS "
   ]
  },
  {
   "cell_type": "markdown",
   "metadata": {},
   "source": [
    "<font color='red'>UPDATED Oct 4</font>\n",
    "\n",
    "Write a new function named `negamaxIDS` that performs an iterative deepening negamax search.  Replace the first line in the `while` loop of `playGame` with\n",
    "\n",
    "        score,move = negamaxIDS(game,depthLimit)\n",
    "        \n",
    "where `depthLimit` is now the maximum depth and multiple `negamax` searches are performed for depth limits of $1, 2, \\ldots,$ maximum depth.\n",
    "\n",
    "But, when should you stop?  Can you stop before readhing the depthLimit?  If not, there is no point to doing iterative deepening.\n",
    "\n",
    "For Tic-Tac-Toe, we can stop as soon as a call to `negamax` returns a winning move.  This will have a value of 1 for Tic-Tac-Toe.  To keep our `negamaxIDS` function general, add a method called `getWinningValue` to the `TTT` class that just returns 1.  Then `negamaxIDS` can call `game.getWinningValue()` to determine the value of a winning move for this game.  If the maximum depth is reached and no winning move has been found, return the best move found over all depth limts."
   ]
  },
  {
   "cell_type": "code",
   "execution_count": 5,
   "metadata": {
    "collapsed": false
   },
   "outputs": [],
   "source": [
    "def negamaxIDS(game, maxDepth):\n",
    "    bestValue, bestMove = None, None\n",
    "    for depth in range(maxDepth):\n",
    "        bestValue, bestMove = negamax(game,depth)\n",
    "        if bestValue == game.getWinningValue():\n",
    "            return bestValue, bestMove\n",
    "    return bestValue, bestMove\n"
   ]
  },
  {
   "cell_type": "markdown",
   "metadata": {},
   "source": [
    "## negamaxIDSab"
   ]
  },
  {
   "cell_type": "code",
   "execution_count": 6,
   "metadata": {
    "collapsed": true
   },
   "outputs": [],
   "source": [
    "def negamaxIDSab(game, maxDepth):\n",
    "    def dls(depth, alpha, beta):\n",
    "        bestValue, bestMove = None, None\n",
    "        alpha, beta = -beta, -alpha\n",
    "        if game.isOver() or depth == 0:\n",
    "            return game.getUtility(), None\n",
    "        for move in game.getMoves():\n",
    "            game.makeMove(move)\n",
    "            value, _ = dls(depth-1, alpha, beta)\n",
    "            game.unmakeMove(move)\n",
    "            if value is None:\n",
    "                continue\n",
    "            value = -value\n",
    "            if bestValue is None or value > bestValue:\n",
    "                bestValue, bestMove = value, move\n",
    "            if bestValue >= beta:\n",
    "                break\n",
    "            alpha = max(alpha, bestValue)\n",
    "        return bestValue, bestMove\n",
    "    bestValue, bestMove = None, None\n",
    "    for depth in range(maxDepth):\n",
    "        bestValue, bestMove = dls(depth,float('-inf'),float('inf'))\n",
    "        if bestValue == game.getWinningValue():\n",
    "            return bestValue, bestMove\n",
    "    return bestValue, bestMove"
   ]
  },
  {
   "cell_type": "markdown",
   "metadata": {},
   "source": [
    "Now for the hardest part.  Make a new function `negamaxIDSab` by duplicating `negamaxIDS` and add the code to implement alpha-beta pruning."
   ]
  },
  {
   "cell_type": "markdown",
   "metadata": {},
   "source": [
    "## playGames\n",
    "\n",
    "Now duplicate the game playing loop so three complete tic-tac-toe games are played.  Call this new version `playGames`. For the first game, use `negamax`. For the second game, use `negamaxIDS`.  For the third game, use `negamaxIDSab`.  At the end of each game, print the number of X's in the final board, the number moves explored, the depth of the game which is the number of moves made by X and O, and the effective branching factor.  When you run `playGames` you should see the tic-tac-toe positions after each move and, after all games are done, a line for each game like the following lines, which were <font color='red'>UPDATED Oct 8</font>.\n",
    "\n",
    "    negamax made 4 moves. 558334 moves explored for ebf(558334, 7) of 6.46\n",
    "    negamaxIDS made 3 moves. 23338 moves explored for ebf(23338, 5) of 7.26\n",
    "    negamaxIDSab made 3 moves 6053 moves explored for ebf(6053, 5) of 5.48\n",
    "\n",
    "Your results may be different. \n",
    "\n",
    "The value of the depth is the total number of moves made by X and by O during the search.  You can calculate this by keeping a list of all board states, or by just counting the number of X's and O's in the final board."
   ]
  },
  {
   "cell_type": "code",
   "execution_count": 7,
   "metadata": {
    "collapsed": false
   },
   "outputs": [],
   "source": [
    "def playGames(opponent,depthLimit):\n",
    "    def play(game,algorithm):\n",
    "        print(game)\n",
    "        while not game.isOver():\n",
    "            score,move = algorithm(game,depthLimit)\n",
    "            if move == None :\n",
    "                print('move is None. Stopping.')\n",
    "                break\n",
    "            game.makeMove(move)\n",
    "            print('Player', game.player, 'to', move, 'for score' ,score)\n",
    "            print(game)\n",
    "            if not game.isOver():\n",
    "                game.changePlayer()\n",
    "                opponentMove = opponent(game.board)\n",
    "                game.makeMove(opponentMove)\n",
    "                print('Player', game.player, 'to', opponentMove)   ### FIXED ERROR IN THIS LINE!\n",
    "                print(game)\n",
    "                game.changePlayer()\n",
    "    \n",
    "    def ebf (nNodes, depth):\n",
    "        return 0 if depth == 0 else nNodes ** (1 / depth)\n",
    "\n",
    "    formatString = '{} made {} moves. {} moves explored for ebf({}, {}) of {}'\n",
    "    \n",
    "    print('Negamax')\n",
    "    negamax_game = TTT()\n",
    "    play(negamax_game,negamax)\n",
    "    negamax_playerXMoves = negamax_game.board.count('X')\n",
    "    negamax_moves = negamax_game.board.count('X') + negamax_game.board.count('O')\n",
    "    negamax_explored = negamax_game.getNumberMovesExplored()\n",
    "    negamax_ebf = ebf(negamax_explored, negamax_moves)\n",
    "    \n",
    "    print('Negamax Iterative Deepening')\n",
    "    negamaxIDS_game = TTT()\n",
    "    play(negamaxIDS_game,negamaxIDS)\n",
    "    negamaxIDS_playerXMoves = negamaxIDS_game.board.count('X')\n",
    "    negamaxIDS_moves = negamaxIDS_game.board.count('X') + negamaxIDS_game.board.count('O')\n",
    "    negamaxIDS_explored = negamaxIDS_game.getNumberMovesExplored()\n",
    "    negamaxIDS_ebf = ebf(negamaxIDS_explored, negamaxIDS_moves)\n",
    "    \n",
    "    print('Negamax Iterative Deepening with Alpha Beta Pruning')\n",
    "    negamaxIDSab_game = TTT()\n",
    "    play(negamaxIDSab_game,negamaxIDSab)\n",
    "    negamaxIDSab_playerXMoves = negamaxIDSab_game.board.count('X')\n",
    "    negamaxIDSab_moves = negamaxIDSab_game.board.count('X') + negamaxIDSab_game.board.count('O')\n",
    "    negamaxIDSab_explored = negamaxIDSab_game.getNumberMovesExplored()\n",
    "    negamaxIDSab_ebf = ebf(negamaxIDSab_explored, negamaxIDSab_moves)\n",
    "    \n",
    "    \n",
    "    print(formatString.format('negamax', negamax_playerXMoves, negamax_explored,\n",
    "                              negamax_explored, negamax_moves, negamax_ebf))\n",
    "    print(formatString.format('negamaxIDS', negamaxIDS_playerXMoves, negamaxIDS_explored,\n",
    "                              negamaxIDS_explored, negamaxIDS_moves, negamaxIDS_ebf))\n",
    "    print(formatString.format('negamaxIDSab', negamaxIDSab_playerXMoves, negamaxIDSab_explored,\n",
    "                              negamaxIDSab_explored, negamaxIDSab_moves, negamaxIDSab_ebf))"
   ]
  },
  {
   "cell_type": "markdown",
   "metadata": {},
   "source": [
    "Here are some example results. <font color='red'>Updated October 8, 3:15pm </font>"
   ]
  },
  {
   "cell_type": "code",
   "execution_count": 11,
   "metadata": {
    "collapsed": false,
    "scrolled": false
   },
   "outputs": [
    {
     "name": "stdout",
     "output_type": "stream",
     "text": [
      "Negamax\n",
      "X|X| \n",
      "-----\n",
      "X|O|O\n",
      "-----\n",
      " | | \n",
      "Player O to 2 for score -1\n",
      "X|X|O\n",
      "-----\n",
      "X|O|O\n",
      "-----\n",
      " | | \n",
      "Player X to 8\n",
      "X|X|O\n",
      "-----\n",
      "X|O|O\n",
      "-----\n",
      " | |X\n",
      "Player O to 6 for score 1\n",
      "X|X|O\n",
      "-----\n",
      "X|O|O\n",
      "-----\n",
      "O| |X\n",
      "Negamax Iterative Deepening\n",
      "X|X| \n",
      "-----\n",
      "X|O|O\n",
      "-----\n",
      " | | \n",
      "Player O to 2 for score -1\n",
      "X|X|O\n",
      "-----\n",
      "X|O|O\n",
      "-----\n",
      " | | \n",
      "Player X to 8\n",
      "X|X|O\n",
      "-----\n",
      "X|O|O\n",
      "-----\n",
      " | |X\n",
      "Player O to 6 for score 1\n",
      "X|X|O\n",
      "-----\n",
      "X|O|O\n",
      "-----\n",
      "O| |X\n",
      "Negamax Iterative Deepening with Alpha Beta Pruning\n",
      "X|X| \n",
      "-----\n",
      "X|O|O\n",
      "-----\n",
      " | | \n",
      "Player O to 2 for score -1\n",
      "X|X|O\n",
      "-----\n",
      "X|O|O\n",
      "-----\n",
      " | | \n",
      "Player X to 8\n",
      "X|X|O\n",
      "-----\n",
      "X|O|O\n",
      "-----\n",
      " | |X\n",
      "Player O to 6 for score 1\n",
      "X|X|O\n",
      "-----\n",
      "X|O|O\n",
      "-----\n",
      "O| |X\n",
      "negamax made 4 moves. 40 moves explored for ebf(40, 8) of 1.5858331751372434\n",
      "negamaxIDS made 4 moves. 223 moves explored for ebf(223, 8) of 1.96579446486959\n",
      "negamaxIDSab made 4 moves. 91 moves explored for ebf(91, 8) of 1.757438653093661\n"
     ]
    }
   ],
   "source": [
    "playGames(opponent, 9)"
   ]
  },
  {
   "cell_type": "markdown",
   "metadata": {},
   "source": [
    "## Grading"
   ]
  },
  {
   "cell_type": "markdown",
   "metadata": {},
   "source": [
    "As always, download and extract from [A4grader.tar](http://www.cs.colostate.edu/~anderson/cs440/notebooks/A4grader.tar)"
   ]
  },
  {
   "cell_type": "code",
   "execution_count": 9,
   "metadata": {
    "collapsed": false
   },
   "outputs": [
    {
     "name": "stdout",
     "output_type": "stream",
     "text": [
      "\n",
      "Testing negamax starting from ['O', 'X', ' ', 'O', ' ', ' ', ' ', 'X', ' ']\n",
      "\n",
      "--- 10/10 points. negamax correctly returns value of 1\n",
      "\n",
      "--- 10/10 points. negamax correctly explored 124 states.\n",
      "\n",
      "Testing negamax starting from ['O', 'X', 'X', 'O', 'O', ' ', ' ', 'X', ' ']\n",
      "\n",
      "--- 10/10 points. negamax correctly returns value of -1 and move of 5\n",
      "\n",
      "Testing negamaxIDS with max depth of 5, starting from ['O', 'X', 'X', 'O', 'O', ' ', ' ', 'X', ' ']\n",
      "\n",
      "--- 10/10 points. negamaxIDS correctly returns value of -1 and move of 5\n",
      "\n",
      "Testing negamaxIDSab starting from ['O', 'X', 'X', 'O', 'O', ' ', ' ', 'X', ' ']\n",
      "\n",
      "--- 20/20 points. negamaxIDSab correctly returns value of -1 and move of 5\n",
      "\n",
      "Testing playGame with opponent that always plays in highest numbered position.\n",
      " | | \n",
      "-----\n",
      " | | \n",
      "-----\n",
      " | | \n",
      "Player X to 0 for score 0\n",
      "X| | \n",
      "-----\n",
      " | | \n",
      "-----\n",
      " | | \n",
      "Player O to 8\n",
      "X| | \n",
      "-----\n",
      " | | \n",
      "-----\n",
      " | |O\n",
      "Player X to 2 for score 1\n",
      "X| |X\n",
      "-----\n",
      " | | \n",
      "-----\n",
      " | |O\n",
      "Player O to 7\n",
      "X| |X\n",
      "-----\n",
      " | | \n",
      "-----\n",
      " |O|O\n",
      "Player X to 1 for score 1\n",
      "X|X|X\n",
      "-----\n",
      " | | \n",
      "-----\n",
      " |O|O\n",
      "\n",
      "--- 10/10 points. playGame correctly wins by filling top row with Xs.\n",
      "\n",
      "A4 Execution Grade is 70/70\n",
      "\n",
      " Remaining 30 points will be based on the output of your playGames function.\n",
      "\n",
      "A4 FINAL GRADE is __/100\n"
     ]
    }
   ],
   "source": [
    "%run -i A4grader.py"
   ]
  },
  {
   "cell_type": "markdown",
   "metadata": {},
   "source": [
    "## Extra Credit "
   ]
  },
  {
   "cell_type": "markdown",
   "metadata": {},
   "source": [
    "Earn one extra credit point for each of the following.\n",
    "\n",
    "  - Implement another game and repeat the above steps.\n",
    "\n",
    "  - Implement a random move chooser as the opponent (Player O) and determine how many times Player X can win against this opponent as an average over multiple games."
   ]
  }
 ],
 "metadata": {
  "kernelspec": {
   "display_name": "Python [default]",
   "language": "python",
   "name": "python3"
  },
  "language_info": {
   "codemirror_mode": {
    "name": "ipython",
    "version": 3
   },
   "file_extension": ".py",
   "mimetype": "text/x-python",
   "name": "python",
   "nbconvert_exporter": "python",
   "pygments_lexer": "ipython3",
   "version": "3.5.2"
  }
 },
 "nbformat": 4,
 "nbformat_minor": 2
}
