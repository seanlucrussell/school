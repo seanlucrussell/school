{
 "cells": [
  {
   "cell_type": "markdown",
   "metadata": {},
   "source": [
    "# Reinforcement Learning Solution to the Towers of Hanoi Puzzle"
   ]
  },
  {
   "cell_type": "markdown",
   "metadata": {},
   "source": [
    "*Sean Russell*"
   ]
  },
  {
   "cell_type": "code",
   "execution_count": 34,
   "metadata": {
    "collapsed": false
   },
   "outputs": [],
   "source": [
    "import copy\n",
    "import random\n",
    "import numpy as np\n",
    "import matplotlib.pyplot as plt\n",
    "\n",
    "def printState(state):\n",
    "    print ('-',*list(reversed(state[0])))\n",
    "    print ('-',*list(reversed(state[1])))\n",
    "    print ('-',*list(reversed(state[2])))\n",
    "\n",
    "def validMoves(state):\n",
    "    moves = []\n",
    "    for x in range(3):\n",
    "        for y in range(3):\n",
    "            if x == y or not state[x]:\n",
    "                continue\n",
    "            elif not state[y] or state[x][0] < state[y][0]:\n",
    "                moves.append([x+1,y+1])\n",
    "    return moves\n",
    "\n",
    "def makeMove(state,move):\n",
    "    newState = copy.deepcopy(state)\n",
    "    newState[move[1]-1].insert(0,newState[move[0]-1][0])\n",
    "    newState[move[0]-1] = newState[move[0]-1][1:]\n",
    "    return newState\n",
    "\n",
    "def key(state, move):\n",
    "    return tuple(tuple(s) for s in state), tuple(move)\n",
    "\n",
    "def epsilonGreedy(state, epsilon, validActionsF, Q):\n",
    "    validMoves = validActionsF(state)\n",
    "    if np.random.uniform() < epsilon:\n",
    "        return random.choice(validMoves)\n",
    "    else:\n",
    "        Qs = []\n",
    "        for m in validMoves:\n",
    "            if key(state,m) not in Q:\n",
    "                Q[key(state,m)] = 1\n",
    "            Qs.append(Q[key(state,m)])\n",
    "        return validMoves[ np.argmax(Qs) ]\n",
    "\n",
    "def trainQ(nRepetitions, learningRate, epsilonDecayFactor, validMovesF, makeMoveF):\n",
    "    goalState = [[],[],[1,2,3]]\n",
    "    startState = [[1,2,3],[],[]]\n",
    "    steps = []\n",
    "    epsilon = 1.0\n",
    "    Q = {}\n",
    "    \n",
    "    for i in range(nRepetitions):\n",
    "        epsilon *= epsilonDecayFactor\n",
    "        state = startState\n",
    "        action = epsilonGreedy(state, epsilon, validMovesF, Q)\n",
    "        numberOfSteps = 0\n",
    "        while True:\n",
    "            numberOfSteps += 1\n",
    "            if makeMoveF(state,action) == goalState:\n",
    "                Q[key(state,action)] = -1\n",
    "                break\n",
    "            else:\n",
    "                nextState = makeMoveF(state,action)\n",
    "                nextAction = epsilonGreedy(nextState, epsilon, validMovesF, Q)\n",
    "                if key(nextState,nextAction) not in Q:\n",
    "                    Q[key(nextState,nextAction)] = -1\n",
    "                if key(state,action) not in Q:\n",
    "                    Q[key(state,action)] = -1\n",
    "                Q[key(state,action)] += learningRate * (-1 + Q[key(nextState,nextAction)] - Q[key(state,action)])\n",
    "                state, action = nextState, nextAction\n",
    "        steps.append(numberOfSteps)\n",
    "    return Q, steps\n",
    "\n",
    "\n",
    "def testQ(Q, maxSteps, validMovesF, makeMoveF):\n",
    "    state = [[1,2,3],[],[]]\n",
    "    goal = [[],[],[1,2,3]]\n",
    "    steps = 0\n",
    "    path = [copy.deepcopy(state)]\n",
    "    while state != goal:\n",
    "        steps += 1\n",
    "        bestMove = validMovesF(state)[0]\n",
    "        for m in validMovesF(state):\n",
    "            if Q[key(state,m)] > Q[key(state,bestMove)]:\n",
    "                bestMove = m\n",
    "        state = makeMoveF(state,bestMove)\n",
    "        path.append(copy.deepcopy(state))\n",
    "        if steps >= maxSteps:\n",
    "            break\n",
    "    return path"
   ]
  },
  {
   "cell_type": "markdown",
   "metadata": {},
   "source": [
    "The way reinforcement learning works here is by generating the dictionary Q. Q takes as a key the current state and an action, and the values it holds are the expected payoffs for each of those state/action pairs. In this case, that literally means the number of steps required in order to solve the towers of hanoi problem.\n",
    "\n",
    "So having this Q dictionary makes decisions easy. Just choose the action with the best Q value at every step along the way to solving whatever problem you gotta solve. The tricky part is generating the Q table.\n",
    "\n",
    "To generate such a table, you just play a bunch of games. Whenever you hit a goal state, the state and action pair that lead to that goal get the best possible Q values. And whenever you make a move, update the Q value for that move and its state based on the expected result of the next move. However, one more important piece is needed. In order for reinforcement learning to work, the algorithm has to be free to search unexplored, potentially non-optimal paths. To do this, an epsilon value that decreases with each game determines whether the algorithm takes the optimal move at every step, or goes off and explores somewhere random.\n",
    "\n",
    "trainQ is used to create this Q dictionary. nRepetitions counts the number of games that the algorithm should play before its decided it has learned enough. More difficult problems therefore will probably require more repetitons. learningRate is the speed with which Q values are updated based upon exploration. A high learning rate means that the algorithm will quickly find decent Q values, but it might be a bit to spastic to settle into the optimal Q values. epsilonDecayFactor determines the rate at which the epsilon value decays, a higher decay factor means there will be less exploration.\n",
    "\n",
    "testQ takes the Q dictionary that was created from trainQ and uses it to solve the Towers of Hanoi by repeatedly choosing the action with the best Q value until the solution is discovered."
   ]
  },
  {
   "cell_type": "markdown",
   "metadata": {},
   "source": [
    "# Examples"
   ]
  },
  {
   "cell_type": "code",
   "execution_count": 2,
   "metadata": {
    "collapsed": false
   },
   "outputs": [
    {
     "data": {
      "text/plain": [
       "[[1, 2], [1, 3]]"
      ]
     },
     "execution_count": 2,
     "metadata": {},
     "output_type": "execute_result"
    }
   ],
   "source": [
    "validMoves([[1,2,3],[],[]])"
   ]
  },
  {
   "cell_type": "code",
   "execution_count": 3,
   "metadata": {
    "collapsed": false
   },
   "outputs": [
    {
     "data": {
      "text/plain": [
       "[[2], [1, 3], []]"
      ]
     },
     "execution_count": 3,
     "metadata": {},
     "output_type": "execute_result"
    }
   ],
   "source": [
    "state = [[1,2],[3],[]]\n",
    "move = validMoves(state)[0]\n",
    "newstate = makeMove(state, move)\n",
    "newstate"
   ]
  },
  {
   "cell_type": "code",
   "execution_count": 4,
   "metadata": {
    "collapsed": false,
    "scrolled": true
   },
   "outputs": [
    {
     "name": "stdout",
     "output_type": "stream",
     "text": [
      "[2]\n",
      "[1, 3]\n",
      "[]\n"
     ]
    }
   ],
   "source": [
    "printState(newstate)"
   ]
  },
  {
   "cell_type": "markdown",
   "metadata": {},
   "source": [
    "Printing is not particularly elegant, the state is shown rotated by 90 degrees. But its super simple!"
   ]
  },
  {
   "cell_type": "code",
   "execution_count": 5,
   "metadata": {
    "collapsed": false,
    "scrolled": true
   },
   "outputs": [],
   "source": [
    "Q, stepsToGoal = trainQ(50, 0.5, 0.7, validMoves, makeMove)"
   ]
  },
  {
   "cell_type": "code",
   "execution_count": 6,
   "metadata": {
    "collapsed": false,
    "scrolled": true
   },
   "outputs": [
    {
     "data": {
      "text/plain": [
       "{(((), (1,), (2, 3)), (2, 1)): -1.4765625,\n",
       " (((), (1,), (2, 3)), (2, 3)): -1,\n",
       " (((), (1,), (2, 3)), (3, 1)): -1.0625,\n",
       " (((), (1, 2), (3,)), (2, 1)): -3.0000000000271143,\n",
       " (((), (1, 2), (3,)), (2, 3)): -3.30029296875,\n",
       " (((), (1, 2), (3,)), (3, 1)): -3.64599609375,\n",
       " (((), (1, 2, 3), ()), (2, 1)): -4.81103515625,\n",
       " (((), (1, 2, 3), ()), (2, 3)): -4.91607666015625,\n",
       " (((), (1, 3), (2,)), (2, 1)): -4.767486572265625,\n",
       " (((), (1, 3), (2,)), (2, 3)): -4.965423583984375,\n",
       " (((), (1, 3), (2,)), (3, 1)): -4.8505706787109375,\n",
       " (((), (2,), (1, 3)), (2, 1)): -2.958984375,\n",
       " (((), (2,), (1, 3)), (3, 1)): -2.71429443359375,\n",
       " (((), (2,), (1, 3)), (3, 2)): -3.028076171875,\n",
       " (((), (2, 3), (1,)), (2, 1)): -4.63360595703125,\n",
       " (((), (2, 3), (1,)), (3, 1)): -4.5516357421875,\n",
       " (((), (2, 3), (1,)), (3, 2)): -4.6199951171875,\n",
       " (((), (3,), (1, 2)), (2, 1)): -5.259757995605469,\n",
       " (((), (3,), (1, 2)), (3, 1)): -4.96820068359375,\n",
       " (((), (3,), (1, 2)), (3, 2)): -5.155059814453125,\n",
       " (((1,), (), (2, 3)), (1, 2)): -1.6171875,\n",
       " (((1,), (), (2, 3)), (1, 3)): -1,\n",
       " (((1,), (), (2, 3)), (3, 2)): -1.59765625,\n",
       " (((1,), (2,), (3,)), (1, 2)): -2.078125,\n",
       " (((1,), (2,), (3,)), (1, 3)): -2.92431640625,\n",
       " (((1,), (2,), (3,)), (2, 3)): -1.99999999999838,\n",
       " (((1,), (2, 3), ()), (1, 2)): -4.9410400390625,\n",
       " (((1,), (2, 3), ()), (1, 3)): -4.6126708984375,\n",
       " (((1,), (2, 3), ()), (2, 3)): -4.8503265380859375,\n",
       " (((1,), (3,), (2,)), (1, 2)): -4.77587890625,\n",
       " (((1,), (3,), (2,)), (1, 3)): -4.661415100097656,\n",
       " (((1,), (3,), (2,)), (3, 2)): -4.9111175537109375,\n",
       " (((1, 2), (), (3,)), (1, 2)): -2.96685791015625,\n",
       " (((1, 2), (), (3,)), (1, 3)): -3.0048828125,\n",
       " (((1, 2), (), (3,)), (3, 2)): -3.756011962890625,\n",
       " (((1, 2), (3,), ()), (1, 2)): -4.287841796875,\n",
       " (((1, 2), (3,), ()), (1, 3)): -3.9326171875,\n",
       " (((1, 2), (3,), ()), (2, 3)): -3.8621368408203125,\n",
       " (((1, 2, 3), (), ()), (1, 2)): -7.071478810161352,\n",
       " (((1, 2, 3), (), ()), (1, 3)): -7.000001542086961,\n",
       " (((1, 3), (), (2,)), (1, 2)): -5.657510280609131,\n",
       " (((1, 3), (), (2,)), (1, 3)): -5.690003395080566,\n",
       " (((1, 3), (), (2,)), (3, 2)): -5.496371269226074,\n",
       " (((1, 3), (2,), ()), (1, 2)): -4.91943359375,\n",
       " (((1, 3), (2,), ()), (1, 3)): -5.0947265625,\n",
       " (((1, 3), (2,), ()), (2, 3)): -5.416919708251953,\n",
       " (((2,), (), (1, 3)), (1, 2)): -2.6015625,\n",
       " (((2,), (), (1, 3)), (3, 1)): -2.947265625,\n",
       " (((2,), (), (1, 3)), (3, 2)): -2.6845703125,\n",
       " (((2,), (1,), (3,)), (1, 3)): -1.9984130859375,\n",
       " (((2,), (1,), (3,)), (2, 1)): -2.068359375,\n",
       " (((2,), (1,), (3,)), (2, 3)): -2.07421875,\n",
       " (((2,), (1, 3), ()), (1, 3)): -4.519012451171875,\n",
       " (((2,), (1, 3), ()), (2, 1)): -4.5081939697265625,\n",
       " (((2,), (1, 3), ()), (2, 3)): -4.5550537109375,\n",
       " (((2,), (3,), (1,)), (1, 2)): -4.304931640625,\n",
       " (((2,), (3,), (1,)), (3, 1)): -4.33294677734375,\n",
       " (((2,), (3,), (1,)), (3, 2)): -4.3961181640625,\n",
       " (((2, 3), (), (1,)), (1, 2)): -6.000000248371567,\n",
       " (((2, 3), (), (1,)), (3, 1)): -6.0022531151771545,\n",
       " (((2, 3), (), (1,)), (3, 2)): -6.01070961356163,\n",
       " (((2, 3), (1,), ()), (1, 3)): -6.44976694509387,\n",
       " (((2, 3), (1,), ()), (2, 1)): -6.691680211573839,\n",
       " (((2, 3), (1,), ()), (2, 3)): -6.69037351757288,\n",
       " (((3,), (), (1, 2)), (1, 2)): -5.565879821777344,\n",
       " (((3,), (), (1, 2)), (3, 1)): -5.7263641357421875,\n",
       " (((3,), (), (1, 2)), (3, 2)): -5.497204303741455,\n",
       " (((3,), (1,), (2,)), (2, 1)): -5.649011135101318,\n",
       " (((3,), (1,), (2,)), (2, 3)): -5.9510719776153564,\n",
       " (((3,), (1,), (2,)), (3, 1)): -6.5037146508693695,\n",
       " (((3,), (1, 2), ()), (1, 3)): -4.000000001594302,\n",
       " (((3,), (1, 2), ()), (2, 1)): -4.6888427734375,\n",
       " (((3,), (1, 2), ()), (2, 3)): -4.111721038818359,\n",
       " (((3,), (2,), (1,)), (2, 1)): -5.397712469100952,\n",
       " (((3,), (2,), (1,)), (3, 1)): -5.21875,\n",
       " (((3,), (2,), (1,)), (3, 2)): -5.000000026291218}"
      ]
     },
     "execution_count": 6,
     "metadata": {},
     "output_type": "execute_result"
    }
   ],
   "source": [
    "Q"
   ]
  },
  {
   "cell_type": "markdown",
   "metadata": {},
   "source": [
    "As expected, the Q values for states and actions that lead to a solution have a Q value of -1, and those that are close to solutions are greater than those that are far away. Also, I'm pretty sure that the solution can be reached from any state within 7 moves, so no Q value should be substantially less than -7, which is also true."
   ]
  },
  {
   "cell_type": "code",
   "execution_count": 7,
   "metadata": {
    "collapsed": false
   },
   "outputs": [
    {
     "data": {
      "text/plain": [
       "[84,\n",
       " 71,\n",
       " 111,\n",
       " 33,\n",
       " 33,\n",
       " 39,\n",
       " 14,\n",
       " 58,\n",
       " 13,\n",
       " 59,\n",
       " 58,\n",
       " 12,\n",
       " 14,\n",
       " 27,\n",
       " 9,\n",
       " 18,\n",
       " 21,\n",
       " 13,\n",
       " 12,\n",
       " 42,\n",
       " 12,\n",
       " 7,\n",
       " 7,\n",
       " 9,\n",
       " 8,\n",
       " 7,\n",
       " 11,\n",
       " 7,\n",
       " 10,\n",
       " 7,\n",
       " 7,\n",
       " 7,\n",
       " 7,\n",
       " 7,\n",
       " 7,\n",
       " 7,\n",
       " 7,\n",
       " 7,\n",
       " 7,\n",
       " 7,\n",
       " 7,\n",
       " 7,\n",
       " 7,\n",
       " 7,\n",
       " 7,\n",
       " 7,\n",
       " 7,\n",
       " 7,\n",
       " 7,\n",
       " 7]"
      ]
     },
     "execution_count": 7,
     "metadata": {},
     "output_type": "execute_result"
    }
   ],
   "source": [
    "stepsToGoal"
   ]
  },
  {
   "cell_type": "markdown",
   "metadata": {},
   "source": [
    "As the computer learns how to solve the Towers of Hanoi, the number of steps required to find a solution goes down."
   ]
  },
  {
   "cell_type": "code",
   "execution_count": 24,
   "metadata": {
    "collapsed": false
   },
   "outputs": [
    {
     "data": {
      "image/png": "[encoded data removed]",
      "text/plain": [
       "<matplotlib.figure.Figure at 0x10483deb8>"
      ]
     },
     "metadata": {},
     "output_type": "display_data"
    }
   ],
   "source": [
    "%matplotlib inline\n",
    "\n",
    "plt.xlabel('game')\n",
    "plt.ylabel('steps to goal')\n",
    "plt.plot(stepsToGoal);"
   ]
  },
  {
   "cell_type": "markdown",
   "metadata": {},
   "source": [
    "In a more visual form, the number of steps required to reach the goal decreases as the number of games increases."
   ]
  },
  {
   "cell_type": "code",
   "execution_count": 25,
   "metadata": {
    "collapsed": true
   },
   "outputs": [],
   "source": [
    "path = testQ(Q, 20, validMoves, makeMove)"
   ]
  },
  {
   "cell_type": "markdown",
   "metadata": {},
   "source": [
    "testQ returns a solution to the Towers of Hanoi puzzle as a sequence of states"
   ]
  },
  {
   "cell_type": "code",
   "execution_count": 26,
   "metadata": {
    "collapsed": false
   },
   "outputs": [
    {
     "data": {
      "text/plain": [
       "[[[1, 2, 3], [], []],\n",
       " [[2, 3], [], [1]],\n",
       " [[3], [2], [1]],\n",
       " [[3], [1, 2], []],\n",
       " [[], [1, 2], [3]],\n",
       " [[1], [2], [3]],\n",
       " [[1], [], [2, 3]],\n",
       " [[], [], [1, 2, 3]]]"
      ]
     },
     "execution_count": 26,
     "metadata": {},
     "output_type": "execute_result"
    }
   ],
   "source": [
    "path"
   ]
  },
  {
   "cell_type": "code",
   "execution_count": 35,
   "metadata": {
    "collapsed": false
   },
   "outputs": [
    {
     "name": "stdout",
     "output_type": "stream",
     "text": [
      "- 3 2 1\n",
      "-\n",
      "-\n",
      "\n",
      "- 3 2\n",
      "-\n",
      "- 1\n",
      "\n",
      "- 3\n",
      "- 2\n",
      "- 1\n",
      "\n",
      "- 3\n",
      "- 2 1\n",
      "-\n",
      "\n",
      "-\n",
      "- 2 1\n",
      "- 3\n",
      "\n",
      "- 1\n",
      "- 2\n",
      "- 3\n",
      "\n",
      "- 1\n",
      "-\n",
      "- 3 2\n",
      "\n",
      "-\n",
      "-\n",
      "- 3 2 1\n",
      "\n"
     ]
    }
   ],
   "source": [
    "for s in path:\n",
    "    printState(s)\n",
    "    print()"
   ]
  },
  {
   "cell_type": "markdown",
   "metadata": {},
   "source": [
    "Printed nicely you can see it giving the optimal solution."
   ]
  },
  {
   "cell_type": "code",
   "execution_count": 36,
   "metadata": {
    "collapsed": false,
    "scrolled": false
   },
   "outputs": [
    {
     "name": "stdout",
     "output_type": "stream",
     "text": [
      "\n",
      "Testing validMoves([[1], [2], [3]])\n",
      "\n",
      "--- 10/10 points. Correctly returned [[1, 2], [1, 3], [2, 3]]\n",
      "\n",
      "Testing validMoves([[], [], [1, 2, 3]])\n",
      "\n",
      "--- 10/10 points. Correctly returned [[3, 1], [3, 2]]\n",
      "\n",
      "Testing makeMove([[], [], [1, 2, 3]], [3, 2])\n",
      "\n",
      "--- 10/10 points. Correctly returned [[], [1], [2, 3]]\n",
      "\n",
      "Testing makeMove([[2], [3], [1]], [1, 2])\n",
      "\n",
      "--- 10/10 points. Correctly returned [[], [2, 3], [1]]\n",
      "\n",
      "Testing   Q, steps = trainQ(1000, 0.5, 0.7, validMoves, makeMove).\n",
      "\n",
      "--- 10/10 points. Q dictionary has correct number of entries.\n",
      "\n",
      "--- 10/10 points. The mean of the number of steps is 7.666 which is correct.\n",
      "\n",
      "Testing   path = testQ(Q, 20, validMoves, makeMove).\n",
      "\n",
      "--- 20/20 points. Correctly returns path of length 8, less than 10.\n",
      "\n",
      "A5 Execution Grade is 80/80\n",
      "\n",
      " Remaining 20 points will be based on your text describing the trainQ and test! functions.\n",
      "\n",
      "A5 FINAL GRADE is __/100\n"
     ]
    }
   ],
   "source": [
    "%run -i A5grader.py"
   ]
  }
 ],
 "metadata": {
  "kernelspec": {
   "display_name": "Python [default]",
   "language": "python",
   "name": "python3"
  },
  "language_info": {
   "codemirror_mode": {
    "name": "ipython",
    "version": 3
   },
   "file_extension": ".py",
   "mimetype": "text/x-python",
   "name": "python",
   "nbconvert_exporter": "python",
   "pygments_lexer": "ipython3",
   "version": "3.5.2"
  }
 },
 "nbformat": 4,
 "nbformat_minor": 2
}
