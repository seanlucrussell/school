{
 "cells": [
  {
   "cell_type": "markdown",
   "metadata": {},
   "source": [
    "# A3: A\\*, IDS, and Effective Branching Factor"
   ]
  },
  {
   "cell_type": "markdown",
   "metadata": {},
   "source": [
    "*Sean Russell*"
   ]
  },
  {
   "cell_type": "markdown",
   "metadata": {},
   "source": [
    "# Overview\n",
    "\n",
    "In this notebook are an implementation for A\\* search, iterative deepening depth first search, a definition for the 8-puzzle problem, and some tests to help evaluate the efficience of A\\* with an array of heuristics."
   ]
  },
  {
   "cell_type": "markdown",
   "metadata": {},
   "source": [
    "## Background"
   ]
  },
  {
   "cell_type": "markdown",
   "metadata": {},
   "source": [
    "There are two varieties of search algorithms: informed and uninformed. Uninformed searches are useful when the problem domain is unknown, but they can be much slower than an informed search. Iterative Deepening Search is an uninformed search that looks through all solutions at a certain depth before advancing to the next depth. A\\* search is an informed search that uses a heuristic function to estimate the distance the search is from the goal, and move in a direction that decreases that distance."
   ]
  },
  {
   "cell_type": "markdown",
   "metadata": {},
   "source": [
    "# Code"
   ]
  },
  {
   "cell_type": "markdown",
   "metadata": {},
   "source": [
    "We start off with the definition for iterative deepening search. This is copied from my last workbook (Russell-A2) with minor modifications. For one, depth limited search was compacted and moved inside iterative deepening search. Second, iterative deepening search now keeps track of the number of nodes it expands while searching for a solution using the global variable numNodes."
   ]
  },
  {
   "cell_type": "code",
   "execution_count": null,
   "metadata": {
    "collapsed": true
   },
   "outputs": [],
   "source": [
    "def iterativeDeepeningSearch(startState, goalState, actionsF, takeActionF, maxDepth):\n",
    "    global numNodes\n",
    "    numNodes = 0\n",
    "    \n",
    "    def dls(state, depth):\n",
    "        global numNodes\n",
    "        cutoff = False\n",
    "        if state == goalState:\n",
    "            return ([state],0)\n",
    "        if depth == 0:\n",
    "            return 'cutoff'\n",
    "        for action in actionsF(state):\n",
    "            numNodes += 1\n",
    "            nextAction = takeActionF(state,action)\n",
    "            path = dls(nextAction[0], depth-1)\n",
    "            if path == 'cutoff':\n",
    "                cutoff = True\n",
    "            elif path != 'failure':\n",
    "                return ([state] + path[0], nextAction[1] + path[1])\n",
    "        return 'cutoff' if cutoff else 'failure'\n",
    "    \n",
    "    for i in range(maxDepth):\n",
    "        search = dls(startState, i)\n",
    "        if search != 'cutoff':\n",
    "            return search\n",
    "    return 'cutoff'"
   ]
  },
  {
   "cell_type": "markdown",
   "metadata": {},
   "source": [
    "The definition for the 8-puzzle is largely the same as well. The only modifications are to include a step cost into the state of the puzzle and make everything work well with that."
   ]
  },
  {
   "cell_type": "code",
   "execution_count": 181,
   "metadata": {
    "collapsed": true
   },
   "outputs": [],
   "source": [
    "def goalTestF_8p(state, goal):\n",
    "    return state == goal\n",
    "\n",
    "def actionsF_8p(state):\n",
    "    actions = []\n",
    "    index = state.index(0) // 3, state.index(0) % 3\n",
    "    if index[1] != 0:\n",
    "        actions.append(('left',1))\n",
    "    if index[1] != 2:\n",
    "        actions.append(('right',1))\n",
    "    if index[0] != 0:\n",
    "        actions.append(('up',1))\n",
    "    if index[0] != 2:\n",
    "        actions.append(('down',1))\n",
    "    return actions\n",
    "\n",
    "def takeActionF_8p(state, action):\n",
    "    index = state.index(0)\n",
    "    newState = list(state)\n",
    "    if action[0] == 'left':\n",
    "        newState[index], newState[index-1] = newState[index-1], newState[index]\n",
    "        return (newState,1)\n",
    "    if action[0] == 'right':\n",
    "        newState[index], newState[index+1] = newState[index+1], newState[index]\n",
    "        return (newState,1)\n",
    "    if action[0] == 'up':\n",
    "        newState[index], newState[index-3] = newState[index-3], newState[index]\n",
    "        return (newState,1)\n",
    "    if action[0] == 'down':\n",
    "        newState[index], newState[index+3] = newState[index+3], newState[index]\n",
    "        return (newState,1)"
   ]
  },
  {
   "cell_type": "markdown",
   "metadata": {},
   "source": [
    "The implementation for A\\* search is taken from Lecture Notes 07: Informed Search provided by Dr. Anderson. They have been slightly modified in order to keep track of the number of nodes that have been visited over the course of the search, same as the iterative deepening search."
   ]
  },
  {
   "cell_type": "code",
   "execution_count": 337,
   "metadata": {
    "collapsed": true
   },
   "outputs": [],
   "source": [
    "class Node:\n",
    "    def __init__(self, state, f=0, g=0 ,h=0):\n",
    "        self.state = state\n",
    "        self.f = f\n",
    "        self.g = g\n",
    "        self.h = h\n",
    "    def __repr__(self):\n",
    "        return \"Node(\" + repr(self.state) + \", f=\" + repr(self.f) + \\\n",
    "               \", g=\" + repr(self.g) + \", h=\" + repr(self.h) + \")\"\n",
    "\n",
    "def aStarSearch(startState, actionsF, takeActionF, goalTestF, hF):\n",
    "    global numNodes\n",
    "    numNodes = 0\n",
    "    h = hF(startState)\n",
    "    startNode = Node(state=startState, f=0+h, g=0, h=h)\n",
    "    return aStarSearchHelper(startNode, actionsF, takeActionF, goalTestF, hF, float('inf'))\n",
    "\n",
    "def aStarSearchHelper(parentNode, actionsF, takeActionF, goalTestF, hF, fmax):\n",
    "    global numNodes\n",
    "    if goalTestF(parentNode.state):\n",
    "        return ([parentNode.state], parentNode.g)\n",
    "    ## Construct list of children nodes with f, g, and h values\n",
    "    actions = actionsF(parentNode.state)\n",
    "    if not actions:\n",
    "        return (\"failure\", float('inf'))\n",
    "    children = []\n",
    "    for action in actions:\n",
    "        numNodes += 1\n",
    "        (childState,stepCost) = takeActionF(parentNode.state, action)\n",
    "        h = hF(childState)\n",
    "        g = parentNode.g + stepCost\n",
    "        f = max(h+g, parentNode.f)\n",
    "        childNode = Node(state=childState, f=f, g=g, h=h)\n",
    "        children.append(childNode)\n",
    "    while True:\n",
    "        # find best child\n",
    "        children.sort(key = lambda n: n.f) # sort by f value\n",
    "        bestChild = children[0]\n",
    "        if bestChild.f > fmax:\n",
    "            return (\"failure\",bestChild.f)\n",
    "        # next lowest f value\n",
    "        alternativef = children[1].f if len(children) > 1 else float('inf')\n",
    "        # expand best child, reassign its f value to be returned value\n",
    "        result,bestChild.f = aStarSearchHelper(bestChild, actionsF, takeActionF, goalTestF,\n",
    "                                            hF, min(fmax,alternativef))\n",
    "        if result is not \"failure\":\n",
    "            result.insert(0,parentNode.state)\n",
    "            return (result, bestChild.f) "
   ]
  },
  {
   "cell_type": "markdown",
   "metadata": {},
   "source": [
    "Next are defined the heuristics that A\\* search uses to evaluate a potential path."
   ]
  },
  {
   "cell_type": "markdown",
   "metadata": {},
   "source": [
    "The first heuristic is the simplest, it just assumes that the cost of reaching the goal from any state is zero."
   ]
  },
  {
   "cell_type": "code",
   "execution_count": 360,
   "metadata": {
    "collapsed": true
   },
   "outputs": [],
   "source": [
    "def h1_8p(state, goal):\n",
    "    return 0"
   ]
  },
  {
   "cell_type": "markdown",
   "metadata": {},
   "source": [
    "The second heuristic is the manhattan distance the empty square has to travel to reach its goal. The manhattan distance is the distance the square has to travel along the horizontal axis plus the distance the square has to travel along the vertical axis."
   ]
  },
  {
   "cell_type": "code",
   "execution_count": null,
   "metadata": {
    "collapsed": true
   },
   "outputs": [],
   "source": [
    "def h2_8p(state, goal):\n",
    "    stateZeroIndex = state.index(0) // 3, state.index(0) % 3\n",
    "    goalZeroIndex = goal.index(0) // 3, goal.index(0) % 3\n",
    "    return abs(goalZeroIndex[0] - stateZeroIndex[0]) + abs(goalZeroIndex[1] - stateZeroIndex[1])\n"
   ]
  },
  {
   "cell_type": "markdown",
   "metadata": {},
   "source": [
    "The third heuristic is the sum of the manhattan distance of every number within the 8-puzzle to its resting place in the goal except the empty space. This heuristic is admissible (never overestimates the value of the actual path to the goal) because every step moves only one piece at a time if you don't count the empty space. This means that there will always be at least as many moves as the distance of each piece from its final destination, because each piece will have to move at least its manhattan distance from its goal."
   ]
  },
  {
   "cell_type": "code",
   "execution_count": 362,
   "metadata": {
    "collapsed": true
   },
   "outputs": [],
   "source": [
    "def h3_8p(state, goal):\n",
    "    heuristic = 0\n",
    "    for stateVal in state:\n",
    "        if stateVal == 0:\n",
    "            continue\n",
    "        stateIndex = state.index(stateVal) // 3, state.index(stateVal) % 3\n",
    "        goalIndex = goal.index(stateVal) // 3, goal.index(stateVal) % 3\n",
    "        heuristic += abs(goalIndex[0] - stateIndex[0]) + abs(goalIndex[1] - stateIndex[1])\n",
    "    return heuristic"
   ]
  },
  {
   "cell_type": "markdown",
   "metadata": {},
   "source": [
    "And heres an example of the heuristics in action. Notice that h1 < h2 < h3, this will always be the case for these heuristics."
   ]
  },
  {
   "cell_type": "code",
   "execution_count": 364,
   "metadata": {
    "collapsed": false
   },
   "outputs": [
    {
     "name": "stdout",
     "output_type": "stream",
     "text": [
      "0\n",
      "4\n",
      "10\n"
     ]
    }
   ],
   "source": [
    "start = [0,1,3,4,5,8,2,6,7]\n",
    "goal = [1,2,3,4,5,6,7,8,0]\n",
    "print (h1_8p(start,goal))\n",
    "print (h2_8p(start,goal))\n",
    "print (h3_8p(start,goal))"
   ]
  },
  {
   "cell_type": "markdown",
   "metadata": {},
   "source": [
    "So thats all the stuff needed to define the search problem. Next are tools that are useful in evaluating different search algorithms and heuristics, first of which is effective branching factor."
   ]
  },
  {
   "cell_type": "markdown",
   "metadata": {},
   "source": [
    "The effective branching factor of a tree is the average number of children for each node. So a linked list would have an effective branching factor of 1, a balanced binary tree would have an ebf of around 2, and some really crazy trees can have really high branching factors, like 30. In the context of search, effective branching factor means the number of choices at a given step. For instance, in chess there are on average 35 moves that can be made from a given board configuration, while Go has 250 (numbers taken from Wikipedia). This translates directly into effective branching factor. A really high effective branching factor makes searches extremely difficult, because the number of nodes that have to be explored increases exponentially with ebf."
   ]
  },
  {
   "cell_type": "markdown",
   "metadata": {},
   "source": [
    "Anyhow, a good search will minimize effective branching factor of the tree created by the search algorithm. The following function calculates ebf, which we can use to compare different search methods."
   ]
  },
  {
   "cell_type": "code",
   "execution_count": 236,
   "metadata": {
    "collapsed": true
   },
   "outputs": [],
   "source": [
    "def ebf (nNodes, depth, precision=0.01):\n",
    "    # does weird stuff when n = 0, so just returning 0\n",
    "    if nNodes == 0:\n",
    "        return 0\n",
    "    low = 1\n",
    "    high = nNodes\n",
    "    b = (low + high) / 2\n",
    "    n = 0    \n",
    "    for d in range(depth + 1):\n",
    "        n += b**d\n",
    "    while abs(n - nNodes) > precision:\n",
    "        if n > nNodes:\n",
    "            high = b\n",
    "        else:\n",
    "            low = b\n",
    "        b = (low + high) / 2\n",
    "        n = 0    \n",
    "        for d in range(depth + 1):\n",
    "            n += b**d\n",
    "    return b"
   ]
  },
  {
   "cell_type": "markdown",
   "metadata": {},
   "source": [
    "The final piece, runExperiment. This method accepts several goal states and heuristics for A\\* and prints out information regarding number of nodes visited, depth of solution, and effective branching factor."
   ]
  },
  {
   "cell_type": "code",
   "execution_count": 366,
   "metadata": {
    "collapsed": false
   },
   "outputs": [],
   "source": [
    "# global numNodes required for A* and ids searches\n",
    "numNodes = 0\n",
    "\n",
    "def runExperiment(goalState1, goalState2, goalState3, heuristics):\n",
    "    formatString = '{:<17}{:<8}{:<8}{:<8.3f}{:<8}{:<8}{:<8}{:<8.3f}{:<8}{:<8}{:<8}{:<8.3f}'\n",
    "    global numNodes\n",
    "    startState = [1,2,3,4,0,5,6,7,8]\n",
    "    \n",
    "    # iterative deepening search\n",
    "    print ('Start State:',startState)\n",
    "    print ('\\t\\t', goalState1, '\\t', goalState2, '\\t', goalState3)\n",
    "    print (\"Algorithm\\t Depth\\t Nodes\\t EBF\\t\\t Depth\\t Nodes\\t EBF\\t\\t Depth\\t Nodes\\t EBF\\t\\t\")\n",
    "    ids1 = iterativeDeepeningSearch(startState, goalState1, actionsF_8p, takeActionF_8p,12)\n",
    "    n1 = numNodes\n",
    "    ids2 = iterativeDeepeningSearch(startState, goalState2, actionsF_8p, takeActionF_8p,12)\n",
    "    n2 = numNodes\n",
    "    ids3 = iterativeDeepeningSearch(startState, goalState3, actionsF_8p, takeActionF_8p,12)\n",
    "    n3 = numNodes\n",
    "    print (formatString.format('ids',\n",
    "                               ids1[1],n1,ebf(n1,ids1[1]),'',\n",
    "                               ids2[1],n2,ebf(n2,ids2[1]),'',\n",
    "                               ids3[1],n3,ebf(n3,ids3[1])))\n",
    "    \n",
    "    # A* search with each heuristic\n",
    "    g1 = lambda state: goalTestF_8p(state, goalState1)\n",
    "    g2 = lambda state: goalTestF_8p(state, goalState2)\n",
    "    g3 = lambda state: goalTestF_8p(state, goalState3)\n",
    "    for heuristic in heuristics:\n",
    "        h1 = lambda state: heuristic(state,goalState1)\n",
    "        ah1 = aStarSearch(startState, actionsF_8p, takeActionF_8p, g1, h1)\n",
    "        n1 = numNodes\n",
    "        h2 = lambda state: heuristic(state,goalState2)\n",
    "        ah2 = aStarSearch(startState, actionsF_8p, takeActionF_8p, g2, h2)\n",
    "        n2 = numNodes\n",
    "        h3 = lambda state: heuristic(state,goalState3)\n",
    "        ah3 = aStarSearch(startState, actionsF_8p, takeActionF_8p, g3, h3)\n",
    "        n3 = numNodes\n",
    "        print (formatString.format(heuristic.__name__,\n",
    "                                   ah1[1],n1,ebf(n1,ah1[1]),'',\n",
    "                                   ah2[1],n2,ebf(n2,ah2[1]),'',\n",
    "                                   ah3[1],n3,ebf(n3,ah3[1])))"
   ]
  },
  {
   "cell_type": "markdown",
   "metadata": {},
   "source": [
    "# Results"
   ]
  },
  {
   "cell_type": "markdown",
   "metadata": {},
   "source": [
    "So lets run the experiment and see what we get!"
   ]
  },
  {
   "cell_type": "code",
   "execution_count": 367,
   "metadata": {
    "collapsed": false,
    "scrolled": true
   },
   "outputs": [
    {
     "name": "stdout",
     "output_type": "stream",
     "text": [
      "Start State: [1, 2, 3, 4, 0, 5, 6, 7, 8]\n",
      "\t\t [1, 2, 3, 4, 0, 5, 6, 7, 8] \t [1, 2, 3, 4, 5, 8, 6, 0, 7] \t [1, 0, 3, 4, 5, 8, 2, 6, 7]\n",
      "Algorithm\t Depth\t Nodes\t EBF\t\t Depth\t Nodes\t EBF\t\t Depth\t Nodes\t EBF\t\t\n",
      "ids              0       0       0.000           3       43      3.086           11      225850  2.954   \n",
      "h1_8p            0       0       0.000           3       116     4.488           11      643246  3.263   \n",
      "h2_8p            0       0       0.000           3       51      3.297           11      100046  2.733   \n",
      "h3_8p            0       0       0.000           3       9       1.578           11      1172    1.762   \n"
     ]
    }
   ],
   "source": [
    "gs1 = [1,2,3,4,0,5,6,7,8]\n",
    "gs2 = [1,2,3,4,5,8,6,0,7]\n",
    "gs3 = [1,0,3,4,5,8,2,6,7]\n",
    "runExperiment(gs1,gs2,gs3,[h1_8p,h2_8p,h3_8p])"
   ]
  },
  {
   "cell_type": "markdown",
   "metadata": {},
   "source": [
    "The first column is as expected. The goal state is equal to the start state, so each search algorithm should recognize that the search is over before it even begins."
   ]
  },
  {
   "cell_type": "markdown",
   "metadata": {},
   "source": [
    "The second column is a little more interesting. The goal state is not far from the start state, so the searches didn't have to look that far. The first A\\* heuristic (where it always guessed 0) did very poorly. Much worse that I would have anticipated. Honestly I'm still scratching my head a bit at that one. I would have thought that a heuristic that always guesses 0 would be in essense a breadth first search, which should perform at a level similar to that of iterative deepening search. Perhaps it was doing a whole bunch of backtracking which was causing it to expand so many nodes."
   ]
  },
  {
   "cell_type": "markdown",
   "metadata": {},
   "source": [
    "The heuristic that uses the manhattan distance of the blank space performed about on even ground as the iterative deepening search. However, the heuristic that used the manhattan distance of every tile blew me away. It found the goal after expaning only 9 tiles. Since the depth of the solution was 3, that means 1 in 3 of the tiles it expanded were on the solution path."
   ]
  },
  {
   "cell_type": "markdown",
   "metadata": {},
   "source": [
    "These good results for H3 are followed up by column 3. It outperformed the next best search using H2 by a factor of 100. H2 also gained solid ground over iterative deepening search by a factor of 2. H1 is now doing significantly worse at this level."
   ]
  },
  {
   "cell_type": "markdown",
   "metadata": {},
   "source": [
    "## Conclusion"
   ]
  },
  {
   "cell_type": "markdown",
   "metadata": {},
   "source": [
    "With a halfway decent heuristic, A\\* search dramatically outperformed iterative deepening search. While I was expecting this to some degree, the scale at which A\\* performed better when using H3 was far beyond my expectations. Future work might involve applying A\\* with H3 to more difficult 8-puzzles using different start and goal states."
   ]
  },
  {
   "cell_type": "markdown",
   "metadata": {},
   "source": [
    "# Other Stuff\n",
    "\n",
    "I'm leaving in some of the other tests and code provided in the assignment description for future reference/ testing."
   ]
  },
  {
   "cell_type": "markdown",
   "metadata": {},
   "source": [
    "First, some example output for the ebf function."
   ]
  },
  {
   "cell_type": "code",
   "execution_count": 205,
   "metadata": {
    "collapsed": false
   },
   "outputs": [
    {
     "data": {
      "text/plain": [
       "1.661376953125"
      ]
     },
     "execution_count": 205,
     "metadata": {},
     "output_type": "execute_result"
    }
   ],
   "source": [
    "ebf(10, 3)"
   ]
  },
  {
   "cell_type": "markdown",
   "metadata": {},
   "source": [
    "The smallest argument values should be a depth of 0, and 1 node."
   ]
  },
  {
   "cell_type": "code",
   "execution_count": 198,
   "metadata": {
    "collapsed": false
   },
   "outputs": [
    {
     "data": {
      "text/plain": [
       "1.0"
      ]
     },
     "execution_count": 198,
     "metadata": {},
     "output_type": "execute_result"
    }
   ],
   "source": [
    "ebf(1, 0) # should be equal to 1"
   ]
  },
  {
   "cell_type": "code",
   "execution_count": 199,
   "metadata": {
    "collapsed": false
   },
   "outputs": [
    {
     "data": {
      "text/plain": [
       "1.0078125"
      ]
     },
     "execution_count": 199,
     "metadata": {},
     "output_type": "execute_result"
    }
   ],
   "source": [
    "ebf(2, 1)"
   ]
  },
  {
   "cell_type": "code",
   "execution_count": 200,
   "metadata": {
    "collapsed": false
   },
   "outputs": [
    {
     "data": {
      "text/plain": [
       "1.0000009536743164"
      ]
     },
     "execution_count": 200,
     "metadata": {},
     "output_type": "execute_result"
    }
   ],
   "source": [
    "ebf(2, 1, precision=0.000001)"
   ]
  },
  {
   "cell_type": "code",
   "execution_count": 201,
   "metadata": {
    "collapsed": false
   },
   "outputs": [
    {
     "data": {
      "text/plain": [
       "11.275596931956898"
      ]
     },
     "execution_count": 201,
     "metadata": {},
     "output_type": "execute_result"
    }
   ],
   "source": [
    "ebf(200000, 5)"
   ]
  },
  {
   "cell_type": "code",
   "execution_count": 202,
   "metadata": {
    "collapsed": false
   },
   "outputs": [
    {
     "data": {
      "text/plain": [
       "1.2348192492705223"
      ]
     },
     "execution_count": 202,
     "metadata": {},
     "output_type": "execute_result"
    }
   ],
   "source": [
    "ebf(200000, 50)"
   ]
  },
  {
   "cell_type": "markdown",
   "metadata": {},
   "source": [
    "Here is a simple example using our usual simple graph search."
   ]
  },
  {
   "cell_type": "code",
   "execution_count": 138,
   "metadata": {
    "collapsed": true
   },
   "outputs": [],
   "source": [
    "def actionsF_simple(state):\n",
    "    succs = {'a': ['b', 'c'], 'b':['a'], 'c':['h'], 'h':['i'], 'i':['j', 'k', 'l'], 'k':['z']}\n",
    "    return [(s, 1) for s in succs.get(state, [])]\n",
    "\n",
    "def takeActionF_simple(state, action):\n",
    "    return action\n",
    "\n",
    "def goalTestF_simple(state, goal):\n",
    "    return state == goal\n",
    "\n",
    "def h_simple(state, goal):\n",
    "    return 1"
   ]
  },
  {
   "cell_type": "code",
   "execution_count": 139,
   "metadata": {
    "collapsed": false
   },
   "outputs": [
    {
     "data": {
      "text/plain": [
       "[('b', 1), ('c', 1)]"
      ]
     },
     "execution_count": 139,
     "metadata": {},
     "output_type": "execute_result"
    }
   ],
   "source": [
    "actions = actionsF_simple('a')\n",
    "actions"
   ]
  },
  {
   "cell_type": "code",
   "execution_count": 140,
   "metadata": {
    "collapsed": false
   },
   "outputs": [
    {
     "data": {
      "text/plain": [
       "('b', 1)"
      ]
     },
     "execution_count": 140,
     "metadata": {},
     "output_type": "execute_result"
    }
   ],
   "source": [
    "takeActionF_simple('a', actions[0])"
   ]
  },
  {
   "cell_type": "code",
   "execution_count": 141,
   "metadata": {
    "collapsed": false
   },
   "outputs": [
    {
     "data": {
      "text/plain": [
       "True"
      ]
     },
     "execution_count": 141,
     "metadata": {},
     "output_type": "execute_result"
    }
   ],
   "source": [
    "goalTestF_simple('a', 'a')"
   ]
  },
  {
   "cell_type": "code",
   "execution_count": 142,
   "metadata": {
    "collapsed": false
   },
   "outputs": [
    {
     "data": {
      "text/plain": [
       "1"
      ]
     },
     "execution_count": 142,
     "metadata": {},
     "output_type": "execute_result"
    }
   ],
   "source": [
    "h_simple('a', 'z')"
   ]
  },
  {
   "cell_type": "code",
   "execution_count": 143,
   "metadata": {
    "collapsed": false
   },
   "outputs": [
    {
     "data": {
      "text/plain": [
       "(['a', 'c', 'h', 'i', 'k', 'z'], 5)"
      ]
     },
     "execution_count": 143,
     "metadata": {},
     "output_type": "execute_result"
    }
   ],
   "source": [
    "iterativeDeepeningSearch('a', 'z', actionsF_simple, takeActionF_simple, 10)"
   ]
  },
  {
   "cell_type": "code",
   "execution_count": 144,
   "metadata": {
    "collapsed": false
   },
   "outputs": [
    {
     "data": {
      "text/plain": [
       "(['a', 'c', 'h', 'i', 'k', 'z'], 5)"
      ]
     },
     "execution_count": 144,
     "metadata": {},
     "output_type": "execute_result"
    }
   ],
   "source": [
    "aStarSearch('a',actionsF_simple, takeActionF_simple,\n",
    "            lambda s: goalTestF_simple(s, 'z'),\n",
    "            lambda s: h_simple(s, 'z'))"
   ]
  },
  {
   "cell_type": "code",
   "execution_count": 167,
   "metadata": {
    "collapsed": false
   },
   "outputs": [
    {
     "name": "stdout",
     "output_type": "stream",
     "text": [
      "\n",
      "Testing actionsF_8p([1, 2, 3, 4, 5, 6, 7, 0, 8])\n",
      "\n",
      "--- 5/5 points. Your actionsF_8p correctly returned [('left', 1), ('right', 1), ('up', 1)]\n",
      "\n",
      "Testing takeActionF_8p([1, 2, 3, 4, 5, 6, 7, 0, 8], (up, 1))\n",
      "\n",
      "--- 5/5 points. Your takeActionsF_8p correctly returned ([1, 2, 3, 4, 0, 6, 7, 5, 8], 1)\n",
      "\n",
      "Testing goalTestF_8p([1, 2, 3, 4, 5, 6, 7, 0, 8], [1, 2, 3, 4, 5, 6, 7, 0, 8])\n",
      "\n",
      "--- 5/5 points. Your goalTestF_8p correctly True\n",
      "\n",
      "Testing aStarSearch([1, 2, 3, 4, 5, 6, 7, 0, 8],\n",
      "                     actionsF_8p, takeActionF_8p,\n",
      "                     lambda s: goalTestF_8p(s, [0, 2, 3, 1, 4,  6, 7, 5, 8]),\n",
      "                     lambda s: h1_8p(s, [0, 2, 3, 1, 4,  6, 7, 5, 8]))\n",
      "\n",
      "--- 20/20 points. Your search correctly returned ([[1, 2, 3, 4, 5, 6, 7, 0, 8], [1, 2, 3, 4, 0, 6, 7, 5, 8], [1, 2, 3, 0, 4, 6, 7, 5, 8], [0, 2, 3, 1, 4, 6, 7, 5, 8]], 3)\n",
      "\n",
      "Testing iterativeDeepeningSearch([5, 2, 8, 0, 1, 4, 3, 7, 6], \n",
      "                                 [0, 2, 3, 1, 4,  6, 7, 5, 8],\n",
      "                                 actionsF_8p, takeActionF_8p, 10)\n",
      "\n",
      "--- 15/15 points. Your search correctly returned cutoff\n",
      "\n",
      "A3 Grade is 50/50\n"
     ]
    }
   ],
   "source": [
    "%run -i A3grader.py"
   ]
  },
  {
   "cell_type": "code",
   "execution_count": null,
   "metadata": {
    "collapsed": true
   },
   "outputs": [],
   "source": []
  }
 ],
 "metadata": {
  "anaconda-cloud": {},
  "kernelspec": {
   "display_name": "Python [conda root]",
   "language": "python",
   "name": "conda-root-py"
  },
  "language_info": {
   "codemirror_mode": {
    "name": "ipython",
    "version": 3
   },
   "file_extension": ".py",
   "mimetype": "text/x-python",
   "name": "python",
   "nbconvert_exporter": "python",
   "pygments_lexer": "ipython3",
   "version": "3.5.2"
  }
 },
 "nbformat": 4,
 "nbformat_minor": 1
}
