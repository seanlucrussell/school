{
 "cells": [
  {
   "cell_type": "markdown",
   "metadata": {},
   "source": [
    "# Assignment 2: Iterative-Deepening Search"
   ]
  },
  {
   "cell_type": "markdown",
   "metadata": {},
   "source": [
    "*Sean Russell*"
   ]
  },
  {
   "cell_type": "markdown",
   "metadata": {},
   "source": [
    "## Overview"
   ]
  },
  {
   "cell_type": "markdown",
   "metadata": {},
   "source": [
    "I implemented the iterative-deepening search algorithm as discussed in our Week 2 lecture notes and as shown in figures 3.17 and 3.18 in our text book and apply it to the 8-puzzle and automated theorem proving. Most of the juicy stuff is down in the automated theorem proving section, so my explanations on the search algorithms themselves and the solution to the 8-puzzle are a little lighter."
   ]
  },
  {
   "cell_type": "markdown",
   "metadata": {},
   "source": [
    "## Iterative Deepening Search\n",
    "Depth limited search is a depth first search that cuts off once it reaches a specified depth. The iterative deepening search uses depth limited search, starting with a depth of 1 and increasing to maxDepth to find an optimal path to a solution."
   ]
  },
  {
   "cell_type": "code",
   "execution_count": 1,
   "metadata": {
    "collapsed": false
   },
   "outputs": [],
   "source": [
    "def depthLimitedSearch(state, goal, actionsF, takeActionF, depth):\n",
    "    def dls(state, depth):\n",
    "        cutoff = False\n",
    "        if state == goal:\n",
    "            return [state]\n",
    "        if depth == 0:\n",
    "            return 'cutoff'\n",
    "        for action in actionsF(state):\n",
    "            path = dls(takeActionF(state, action), depth-1)\n",
    "            if path != 'failure' and path != 'cutoff':\n",
    "                return [state] + path\n",
    "            if path == 'cutoff':\n",
    "                cutoff = True\n",
    "        return 'cutoff' if cutoff else 'failure'\n",
    "    return dls(state, depth)\n",
    "\n",
    "def iterativeDeepeningSearch(startState, goalState, actionsF, takeActionF, maxDepth):\n",
    "    for i in range(maxDepth):\n",
    "        dls = depthLimitedSearch(startState, goalState, actionsF, takeActionF, i)\n",
    "        if dls == 'failure':\n",
    "            return 'failure'\n",
    "        if dls != 'cutoff':\n",
    "            return dls\n",
    "    return 'cutoff'"
   ]
  },
  {
   "cell_type": "markdown",
   "metadata": {},
   "source": [
    "To test IDS, I do something similar to what I did in assignment 1. I make the search solve basic math problems by defining a bunch of lambda expressions."
   ]
  },
  {
   "cell_type": "code",
   "execution_count": 2,
   "metadata": {
    "collapsed": false
   },
   "outputs": [
    {
     "data": {
      "text/plain": [
       "[5, 4, 6, 8, 10]"
      ]
     },
     "execution_count": 2,
     "metadata": {},
     "output_type": "execute_result"
    }
   ],
   "source": [
    "state = 5\n",
    "axns = lambda s: ['-1','+2']\n",
    "takeAxn = lambda s,a: s+2 if a == '+2' else s-1\n",
    "goal = 10\n",
    "depth = 10\n",
    "\n",
    "iterativeDeepeningSearch(state, goal, axns, takeAxn, depth)"
   ]
  },
  {
   "cell_type": "markdown",
   "metadata": {},
   "source": [
    "We can also use this to check that the cutoff work successfuly when it is imposible to find a solution to the given math problem."
   ]
  },
  {
   "cell_type": "code",
   "execution_count": 3,
   "metadata": {
    "collapsed": false
   },
   "outputs": [
    {
     "data": {
      "text/plain": [
       "'cutoff'"
      ]
     },
     "execution_count": 3,
     "metadata": {},
     "output_type": "execute_result"
    }
   ],
   "source": [
    "state = 5\n",
    "axns = lambda s: ['-2','+2']\n",
    "takeAxn = lambda s,a: s+2 if a == '+2' else s-2\n",
    "goal = 10\n",
    "goalTest = lambda s,g: s == g\n",
    "depth = 10\n",
    "\n",
    "iterativeDeepeningSearch(state, goal, axns, takeAxn, depth)"
   ]
  },
  {
   "cell_type": "markdown",
   "metadata": {},
   "source": [
    "Can likewise check that the algorithm fails properly when the entire state space has been exhausted without a solution being found. "
   ]
  },
  {
   "cell_type": "code",
   "execution_count": 4,
   "metadata": {
    "collapsed": false
   },
   "outputs": [
    {
     "data": {
      "text/plain": [
       "'failure'"
      ]
     },
     "execution_count": 4,
     "metadata": {},
     "output_type": "execute_result"
    }
   ],
   "source": [
    "state = 20\n",
    "axns = lambda s: ['/2'] if s % 2 == 0 else []\n",
    "takeAxn = lambda s,a: s//2\n",
    "goal = 4\n",
    "depth = 10\n",
    "\n",
    "iterativeDeepeningSearch(state, goal, axns, takeAxn, depth)"
   ]
  },
  {
   "cell_type": "markdown",
   "metadata": {},
   "source": [
    "## The Eight Puzzle\n"
   ]
  },
  {
   "cell_type": "markdown",
   "metadata": {},
   "source": [
    "All of this is pretty basic stuff. findBlank_8p searches for the empty spot in the 8-puzzle, which is represented by a 0. actionsF_8p returns all the valid actions in the 8-puzzle, which are right, left, up, and down unless the empty spaces is up against the border. takeAction_8p mutates the state by moving the empty slot based on the action. printState_8p and printPath_8p make the whole thing a lot more readable."
   ]
  },
  {
   "cell_type": "code",
   "execution_count": 46,
   "metadata": {
    "collapsed": false
   },
   "outputs": [],
   "source": [
    "def findBlank_8p(state):\n",
    "    zero = state.index(0)\n",
    "    return zero // 3, zero % 3\n",
    "\n",
    "def actionsF_8p(state):\n",
    "    actions = []\n",
    "    index = findBlank_8p(state)\n",
    "    if index[1] != 0:\n",
    "        actions.append('left')\n",
    "    if index[1] != 2:\n",
    "        actions.append('right')\n",
    "    if index[0] != 0:\n",
    "        actions.append('up')\n",
    "    if index[0] != 2:\n",
    "        actions.append('down')\n",
    "    return actions\n",
    "\n",
    "def takeActionF_8p(state, action):\n",
    "    index = state.index(0)\n",
    "    newState = list(state)\n",
    "    if action == 'left':\n",
    "        newState[index], newState[index-1] = newState[index-1], newState[index]\n",
    "        return newState\n",
    "    if action == 'right':\n",
    "        newState[index], newState[index+1] = newState[index+1], newState[index]\n",
    "        return newState\n",
    "    if action == 'up':\n",
    "        newState[index], newState[index-3] = newState[index-3], newState[index]\n",
    "        return newState\n",
    "    if action == 'down':\n",
    "        newState[index], newState[index+3] = newState[index+3], newState[index]\n",
    "        return newState\n",
    "    \n",
    "def printState_8p(s):\n",
    "    print (\"{} {} {}\\n{} {} {}\\n{} {} {}\\n\".format(s[0],s[1],s[2],s[3],s[4],s[5],s[6],s[7],s[8]))\n",
    "\n",
    "def printPath_8p(startState, goalState, path):\n",
    "    for state in path:\n",
    "        printState_8p(state)"
   ]
  },
  {
   "cell_type": "markdown",
   "metadata": {},
   "source": [
    "I left in the original examples from the assignment description because the work quite well."
   ]
  },
  {
   "cell_type": "code",
   "execution_count": 6,
   "metadata": {
    "collapsed": true
   },
   "outputs": [],
   "source": [
    "startState = [1, 0, 3, 4, 2, 5, 6, 7, 8]"
   ]
  },
  {
   "cell_type": "code",
   "execution_count": 7,
   "metadata": {
    "collapsed": false
   },
   "outputs": [
    {
     "name": "stdout",
     "output_type": "stream",
     "text": [
      "1 0 3\n",
      "4 2 5\n",
      "6 7 8\n",
      "\n"
     ]
    }
   ],
   "source": [
    "printState_8p(startState)  # not a required function for this assignment, but it helps when implementing printPath_8p"
   ]
  },
  {
   "cell_type": "code",
   "execution_count": 8,
   "metadata": {
    "collapsed": false
   },
   "outputs": [
    {
     "data": {
      "text/plain": [
       "(0, 1)"
      ]
     },
     "execution_count": 8,
     "metadata": {},
     "output_type": "execute_result"
    }
   ],
   "source": [
    "findBlank_8p(startState)"
   ]
  },
  {
   "cell_type": "code",
   "execution_count": 9,
   "metadata": {
    "collapsed": false
   },
   "outputs": [
    {
     "data": {
      "text/plain": [
       "['left', 'right', 'down']"
      ]
     },
     "execution_count": 9,
     "metadata": {},
     "output_type": "execute_result"
    }
   ],
   "source": [
    "actionsF_8p(startState)"
   ]
  },
  {
   "cell_type": "code",
   "execution_count": 10,
   "metadata": {
    "collapsed": false
   },
   "outputs": [
    {
     "data": {
      "text/plain": [
       "[1, 2, 3, 4, 0, 5, 6, 7, 8]"
      ]
     },
     "execution_count": 10,
     "metadata": {},
     "output_type": "execute_result"
    }
   ],
   "source": [
    "takeActionF_8p(startState, 'down')"
   ]
  },
  {
   "cell_type": "code",
   "execution_count": 11,
   "metadata": {
    "collapsed": false
   },
   "outputs": [
    {
     "name": "stdout",
     "output_type": "stream",
     "text": [
      "1 2 3\n",
      "4 0 5\n",
      "6 7 8\n",
      "\n"
     ]
    }
   ],
   "source": [
    "printState_8p(takeActionF_8p(startState, 'down'))"
   ]
  },
  {
   "cell_type": "code",
   "execution_count": 12,
   "metadata": {
    "collapsed": true
   },
   "outputs": [],
   "source": [
    "goalState = takeActionF_8p(startState, 'down')"
   ]
  },
  {
   "cell_type": "code",
   "execution_count": 13,
   "metadata": {
    "collapsed": true
   },
   "outputs": [],
   "source": [
    "newState = takeActionF_8p(startState, 'down')"
   ]
  },
  {
   "cell_type": "code",
   "execution_count": 14,
   "metadata": {
    "collapsed": false
   },
   "outputs": [
    {
     "data": {
      "text/plain": [
       "True"
      ]
     },
     "execution_count": 14,
     "metadata": {},
     "output_type": "execute_result"
    }
   ],
   "source": [
    "newState == goalState"
   ]
  },
  {
   "cell_type": "code",
   "execution_count": 15,
   "metadata": {
    "collapsed": false
   },
   "outputs": [
    {
     "data": {
      "text/plain": [
       "[1, 0, 3, 4, 2, 5, 6, 7, 8]"
      ]
     },
     "execution_count": 15,
     "metadata": {},
     "output_type": "execute_result"
    }
   ],
   "source": [
    "startState"
   ]
  },
  {
   "cell_type": "code",
   "execution_count": 16,
   "metadata": {
    "collapsed": false,
    "scrolled": true
   },
   "outputs": [
    {
     "data": {
      "text/plain": [
       "[[1, 0, 3, 4, 2, 5, 6, 7, 8],\n",
       " [0, 1, 3, 4, 2, 5, 6, 7, 8],\n",
       " [1, 0, 3, 4, 2, 5, 6, 7, 8],\n",
       " [1, 2, 3, 4, 0, 5, 6, 7, 8]]"
      ]
     },
     "execution_count": 16,
     "metadata": {},
     "output_type": "execute_result"
    }
   ],
   "source": [
    "path = depthLimitedSearch(startState, goalState, actionsF_8p, takeActionF_8p, 3)\n",
    "path"
   ]
  },
  {
   "cell_type": "markdown",
   "metadata": {},
   "source": [
    "Notice that `depthLimitedSearch` result is missing the start state.  This is inserted by `iterativeDeepeningSearch`.\n",
    "\n",
    "But, when we try `iterativeDeepeningSearch` to do the same search, it finds a shorter path!"
   ]
  },
  {
   "cell_type": "code",
   "execution_count": 17,
   "metadata": {
    "collapsed": false,
    "scrolled": true
   },
   "outputs": [
    {
     "data": {
      "text/plain": [
       "[[1, 0, 3, 4, 2, 5, 6, 7, 8], [1, 2, 3, 4, 0, 5, 6, 7, 8]]"
      ]
     },
     "execution_count": 17,
     "metadata": {},
     "output_type": "execute_result"
    }
   ],
   "source": [
    "path = iterativeDeepeningSearch(startState, goalState, actionsF_8p, takeActionF_8p, 3)\n",
    "path"
   ]
  },
  {
   "cell_type": "markdown",
   "metadata": {},
   "source": [
    "Also notice that the successor states are lists, not tuples.  This is okay, because the search functions for this assignment do not"
   ]
  },
  {
   "cell_type": "code",
   "execution_count": 18,
   "metadata": {
    "collapsed": false
   },
   "outputs": [
    {
     "data": {
      "text/plain": [
       "'cutoff'"
      ]
     },
     "execution_count": 18,
     "metadata": {},
     "output_type": "execute_result"
    }
   ],
   "source": [
    "startState = [4, 7, 2, 1, 6, 5, 0, 3, 8]\n",
    "path = iterativeDeepeningSearch(startState, goalState, actionsF_8p, takeActionF_8p, 3)\n",
    "path"
   ]
  },
  {
   "cell_type": "code",
   "execution_count": 19,
   "metadata": {
    "collapsed": false
   },
   "outputs": [
    {
     "data": {
      "text/plain": [
       "'cutoff'"
      ]
     },
     "execution_count": 19,
     "metadata": {},
     "output_type": "execute_result"
    }
   ],
   "source": [
    "startState = [4, 7, 2, 1, 6, 5, 0, 3, 8]\n",
    "path = iterativeDeepeningSearch(startState, goalState, actionsF_8p, takeActionF_8p, 5)\n",
    "path"
   ]
  },
  {
   "cell_type": "markdown",
   "metadata": {},
   "source": [
    "Humm...maybe we can't reach the goal state from this state.  We need a way to randomly generate a valid start state."
   ]
  },
  {
   "cell_type": "code",
   "execution_count": 20,
   "metadata": {
    "collapsed": true
   },
   "outputs": [],
   "source": [
    "import random"
   ]
  },
  {
   "cell_type": "code",
   "execution_count": 21,
   "metadata": {
    "collapsed": false
   },
   "outputs": [
    {
     "data": {
      "text/plain": [
       "'left'"
      ]
     },
     "execution_count": 21,
     "metadata": {},
     "output_type": "execute_result"
    }
   ],
   "source": [
    "random.choice(['left', 'right'])"
   ]
  },
  {
   "cell_type": "code",
   "execution_count": 22,
   "metadata": {
    "collapsed": true
   },
   "outputs": [],
   "source": [
    "def randomStartState(goalState, actionsF, takeActionF, nSteps):\n",
    "    state = goalState\n",
    "    for i in range(nSteps):\n",
    "        state = takeActionF(state, random.choice(actionsF(state)))\n",
    "    return state"
   ]
  },
  {
   "cell_type": "code",
   "execution_count": 23,
   "metadata": {
    "collapsed": false
   },
   "outputs": [
    {
     "data": {
      "text/plain": [
       "[1, 2, 3, 4, 5, 8, 6, 7, 0]"
      ]
     },
     "execution_count": 23,
     "metadata": {},
     "output_type": "execute_result"
    }
   ],
   "source": [
    "startState = randomStartState(goalState, actionsF_8p, takeActionF_8p, 10)\n",
    "startState"
   ]
  },
  {
   "cell_type": "code",
   "execution_count": 24,
   "metadata": {
    "collapsed": false
   },
   "outputs": [
    {
     "data": {
      "text/plain": [
       "[[1, 2, 3, 4, 5, 8, 6, 7, 0],\n",
       " [1, 2, 3, 4, 5, 0, 6, 7, 8],\n",
       " [1, 2, 3, 4, 0, 5, 6, 7, 8]]"
      ]
     },
     "execution_count": 24,
     "metadata": {},
     "output_type": "execute_result"
    }
   ],
   "source": [
    "path = iterativeDeepeningSearch(startState, goalState, actionsF_8p, takeActionF_8p, 20)\n",
    "path"
   ]
  },
  {
   "cell_type": "markdown",
   "metadata": {},
   "source": [
    "Let's print out the state sequence in a readable form."
   ]
  },
  {
   "cell_type": "code",
   "execution_count": 25,
   "metadata": {
    "collapsed": false
   },
   "outputs": [
    {
     "name": "stdout",
     "output_type": "stream",
     "text": [
      "1 2 3\n",
      "4 5 8\n",
      "6 7 0\n",
      "\n",
      "\n",
      "1 2 3\n",
      "4 5 0\n",
      "6 7 8\n",
      "\n",
      "\n",
      "1 2 3\n",
      "4 0 5\n",
      "6 7 8\n",
      "\n",
      "\n"
     ]
    }
   ],
   "source": [
    "for p in path:\n",
    "    printState_8p(p)\n",
    "    print()"
   ]
  },
  {
   "cell_type": "markdown",
   "metadata": {},
   "source": [
    "Here is one way to format the search problem and solution in a readable form."
   ]
  },
  {
   "cell_type": "code",
   "execution_count": 26,
   "metadata": {
    "collapsed": false
   },
   "outputs": [
    {
     "name": "stdout",
     "output_type": "stream",
     "text": [
      "1 2 3\n",
      "4 5 8\n",
      "6 7 0\n",
      "\n",
      "1 2 3\n",
      "4 5 0\n",
      "6 7 8\n",
      "\n",
      "1 2 3\n",
      "4 0 5\n",
      "6 7 8\n",
      "\n"
     ]
    }
   ],
   "source": [
    "printPath_8p(startState, goalState, path)"
   ]
  },
  {
   "cell_type": "markdown",
   "metadata": {},
   "source": [
    "# Propositional Logic\n",
    "\n",
    "For my second search problem, I decided to automated theorem proving using logical rules. For example, given the two base assumptions that if chickens are birds, and birds have feathers, you can figure out that chickens have feathers. In a more precise syntax, let C = Chickens, B = Birds, and F = Feathers. Then the logical formulas are C -> B and B -> F. Therefore, using inference rules, C -> F.\n",
    "\n",
    "So what I am doing here is using inference rules in conjunction with search do see if you can reach some conclusion, such as chickens having feathers, from some initial facts, like chickens being birds.\n",
    "\n",
    "So to start, I decided upon a convention for representing these logical statements. The most basic logical statement is just something that is either true or false, such as \"The sky is blue\". In python, I'm just using basic strings for this."
   ]
  },
  {
   "cell_type": "code",
   "execution_count": 27,
   "metadata": {
    "collapsed": true
   },
   "outputs": [],
   "source": [
    "statement = \"The sky is blue\""
   ]
  },
  {
   "cell_type": "markdown",
   "metadata": {},
   "source": [
    "The next step up from there is to create relationships. A relationship could be something like \"If the sky is blue, then it is daytime\". In python, I am representing this using a tuple. The first value of the tuple is the relationship operator, which can be either \"IF\", \"AND\", \"OR\", or \"NOT\". The next values are the things being related. So the previous example would be represented as "
   ]
  },
  {
   "cell_type": "code",
   "execution_count": 28,
   "metadata": {
    "collapsed": false
   },
   "outputs": [],
   "source": [
    "relationship = (\"IF\",\"The sky is blue\",\"It is daytime\")"
   ]
  },
  {
   "cell_type": "markdown",
   "metadata": {},
   "source": [
    "I also want a way to print these statements so they look good to people"
   ]
  },
  {
   "cell_type": "code",
   "execution_count": 29,
   "metadata": {
    "collapsed": false
   },
   "outputs": [
    {
     "name": "stdout",
     "output_type": "stream",
     "text": [
      "If (The sky is blue) then (It is daytime)\n"
     ]
    }
   ],
   "source": [
    "def statementToString(statement):\n",
    "    if statement[0] == 'IF':\n",
    "        return 'If (' + statementToString(statement[1]) + ') then (' + statementToString(statement[2]) + ')'\n",
    "    if statement[0] == 'AND':\n",
    "        return '(' + statementToString(statement[1]) + ') and (' + statementToString(statement[2]) + ')'\n",
    "    if statement[0] == 'OR':\n",
    "        return '(' + statementToString(statement[1]) + ') or (' + statementToString(statement[2]) + ')'\n",
    "    if statement[0] == 'NOT':\n",
    "        return 'Not (' + statementToString(statement[1]) + ')'\n",
    "    return statement\n",
    "\n",
    "print (statementToString(relationship))"
   ]
  },
  {
   "cell_type": "markdown",
   "metadata": {},
   "source": [
    "Also, the statments can be nested to make more complicated logical statments"
   ]
  },
  {
   "cell_type": "code",
   "execution_count": 30,
   "metadata": {
    "collapsed": false
   },
   "outputs": [
    {
     "name": "stdout",
     "output_type": "stream",
     "text": [
      "If (Not (It is daytime)) then (Not (The sky is blue))\n"
     ]
    }
   ],
   "source": [
    "complicatedRelationship = (\"IF\",(\"NOT\",\"It is daytime\"),(\"NOT\",\"The sky is blue\"))\n",
    "print (statementToString(complicatedRelationship))"
   ]
  },
  {
   "cell_type": "markdown",
   "metadata": {},
   "source": [
    "In the frame of doing a proof, you have a certain set of statements that you take as true, and a statment you wish to prove. To represent the statements accepted as true, I just use a list of statements as described above. The thing to be proven is a singular statement."
   ]
  },
  {
   "cell_type": "code",
   "execution_count": 31,
   "metadata": {
    "collapsed": false
   },
   "outputs": [
    {
     "name": "stdout",
     "output_type": "stream",
     "text": [
      "Given the statements:\n",
      "  The sky is blue\n",
      "  If (The sky is blue) then (It is daytime)\n",
      "Prove:\n",
      " It is daytime\n"
     ]
    }
   ],
   "source": [
    "statement1 = \"The sky is blue\"\n",
    "statement2 = (\"IF\",\"The sky is blue\",\"It is daytime\")\n",
    "given = [statement1,statement2]\n",
    "prove = \"It is daytime\"\n",
    "\n",
    "print(\"Given the statements:\")\n",
    "[print (\" \",statementToString(s)) for s in given]\n",
    "print(\"Prove:\\n\",prove)"
   ]
  },
  {
   "cell_type": "markdown",
   "metadata": {},
   "source": [
    "So now we have a start state and a goal state. The final piece needed to make this into a search problem is a way to generate successor states from a given state. Fortunately, this is a pretty easy logical step, as there exist rules of inference that use true statements to generate new true statements.\n",
    "\n",
    "On of the most basic of these is Modus Ponens. This rule is extremely intuitive. Formally, it states that given A -> B and A are both true statements, if follows that B must also be true.\n",
    "\n",
    "Using the sky is blue example, you know that if the sky is blue, then it must be daytime. Then supposing the sky is blue right now, you can determine that it must be day.\n",
    "\n",
    "In practice how I implement this is with the following function."
   ]
  },
  {
   "cell_type": "code",
   "execution_count": 32,
   "metadata": {
    "collapsed": true
   },
   "outputs": [],
   "source": [
    "def ModusPonens(statements):\n",
    "    results = []\n",
    "    for statementA in statements:\n",
    "        for statementB in statements:\n",
    "            if statementA[0] == \"IF\" and statementA[1] == statementB:\n",
    "                results.append(statementA[2])\n",
    "    return results"
   ]
  },
  {
   "cell_type": "markdown",
   "metadata": {},
   "source": [
    "This function operates by taking a list of true statements and returns a list of everything it can figure out using the Modus Ponens rule of inference. See it in action here."
   ]
  },
  {
   "cell_type": "code",
   "execution_count": 33,
   "metadata": {
    "collapsed": false
   },
   "outputs": [
    {
     "name": "stdout",
     "output_type": "stream",
     "text": [
      "Given the statements:\n",
      "  The sky is blue\n",
      "  If (The sky is blue) then (It is daytime)\n",
      "  If (The sky is blue) then (It is not overcast)\n",
      "We can prove:\n",
      "  It is daytime\n",
      "  It is not overcast\n"
     ]
    }
   ],
   "source": [
    "statement3 = (\"IF\", \"The sky is blue\", \"It is not overcast\")\n",
    "given = [statement1, statement2, statement3]\n",
    "\n",
    "derivedStatements = ModusPonens(given)\n",
    "\n",
    "print(\"Given the statements:\")\n",
    "[print (\" \",statementToString(s)) for s in given]\n",
    "print(\"We can prove:\")\n",
    "[print (\" \",statementToString(s)) for s in derivedStatements];"
   ]
  },
  {
   "cell_type": "markdown",
   "metadata": {},
   "source": [
    "There are a number of other rules of inference that can be created. Here are two more, Modus Tollens and Hypothetical Syllogism, but there are a whole bunch beyond this. Sometime in the future I might come back to this and add more rules to make proofs easier and more complete. [Here is a list of many basic rules of inference and how they work](https://www.tutorialspoint.com/discrete_mathematics/rules_of_inference.htm)"
   ]
  },
  {
   "cell_type": "code",
   "execution_count": 34,
   "metadata": {
    "collapsed": true
   },
   "outputs": [],
   "source": [
    "def ModusTollens(statements):\n",
    "    results = []\n",
    "    for statementA in statements:\n",
    "        for statementB in statements:\n",
    "            if statementA[0] == \"IF\" and statementB[0] == \"NOT\" and statementA[2] == statementB[1]:\n",
    "                results.append((\"NOT\",statementA[1]))\n",
    "    return results\n",
    "\n",
    "def HypotheticalSyllogism(statements):\n",
    "    results = []\n",
    "    for statementA in statements:\n",
    "        for statementB in statements:\n",
    "            if statementA[0] == \"IF\" and statementB[0] == \"IF\" and statementA[2] == statementB[1]:\n",
    "                results.append((\"IF\",statementA[1],statementB[2]))\n",
    "    return results"
   ]
  },
  {
   "cell_type": "markdown",
   "metadata": {},
   "source": [
    "Now generating successor states of the search problem is pretty easy. Take every rule and apply it to the list of statements that are true and you get every possible statement you could derive."
   ]
  },
  {
   "cell_type": "code",
   "execution_count": 35,
   "metadata": {
    "collapsed": true
   },
   "outputs": [],
   "source": [
    "def findSuccessors(state,rules):\n",
    "    successors = []\n",
    "    for rule in rules:\n",
    "        results = rule(state)\n",
    "        for result in results:\n",
    "            if result not in state:\n",
    "                successors.append(state.copy() + [result])\n",
    "    return successors"
   ]
  },
  {
   "cell_type": "markdown",
   "metadata": {},
   "source": [
    "This function takes the current state of the proof, which is every true statement discovered so far, and a list of rules that can be used to generate the next state. It returns a list of successors, with each possible newly disovered statement appending to the end of one of the successors."
   ]
  },
  {
   "cell_type": "code",
   "execution_count": 36,
   "metadata": {
    "collapsed": false
   },
   "outputs": [
    {
     "name": "stdout",
     "output_type": "stream",
     "text": [
      "['The sky is blue', ('IF', 'The sky is blue', 'It is daytime'), ('IF', 'The sky is blue', 'It is not overcast'), 'It is daytime']\n",
      "['The sky is blue', ('IF', 'The sky is blue', 'It is daytime'), ('IF', 'The sky is blue', 'It is not overcast'), 'It is not overcast']\n"
     ]
    }
   ],
   "source": [
    "rules = [ModusPonens, ModusTollens, HypotheticalSyllogism]\n",
    "for successor in findSuccessors(given,rules):\n",
    "    print (successor)"
   ]
  },
  {
   "cell_type": "markdown",
   "metadata": {},
   "source": [
    "To find the most recently discovered fact, just look at the last element of each state in successors."
   ]
  },
  {
   "cell_type": "code",
   "execution_count": 37,
   "metadata": {
    "collapsed": false
   },
   "outputs": [
    {
     "name": "stdout",
     "output_type": "stream",
     "text": [
      "It is daytime\n",
      "It is not overcast\n"
     ]
    }
   ],
   "source": [
    "for successor in findSuccessors(given,rules):\n",
    "    print (successor[-1])"
   ]
  },
  {
   "cell_type": "markdown",
   "metadata": {},
   "source": [
    "The way to test if a proof has been successful is to check if the list of true statements contains the thing that it is desired to be proven."
   ]
  },
  {
   "cell_type": "code",
   "execution_count": 38,
   "metadata": {
    "collapsed": true
   },
   "outputs": [],
   "source": [
    "def GoalTest(statements,goal):\n",
    "    return goal in statements"
   ]
  },
  {
   "cell_type": "markdown",
   "metadata": {},
   "source": [
    "And because the successors function takes only one argument, here we make it take only one argument."
   ]
  },
  {
   "cell_type": "code",
   "execution_count": 39,
   "metadata": {
    "collapsed": true
   },
   "outputs": [],
   "source": [
    "successors = lambda state: findSuccessors(state,rules)"
   ]
  },
  {
   "cell_type": "markdown",
   "metadata": {},
   "source": [
    "So to make this work, I had to modify the search functions so they could take a goalTest instead of just a comparison, also for simplicity these do not have a generateAction and takeAction methods, rather they just use generateSuccessors. Otherwise these are copy-pasted from the code above."
   ]
  },
  {
   "cell_type": "code",
   "execution_count": 40,
   "metadata": {
    "collapsed": true
   },
   "outputs": [],
   "source": [
    "def depthLimitedSearch_proofs(start, goal, generateSuccessors, goalTest, depth):\n",
    "    def dls(state, depth):\n",
    "        cutoff = False\n",
    "        if goalTest(state,goal):\n",
    "            return [state]\n",
    "        if depth == 0:\n",
    "            return 'cutoff'\n",
    "        for successor in generateSuccessors(state):\n",
    "            path = dls(successor, depth-1)\n",
    "            if path != 'failure' and path != 'cutoff':\n",
    "                return [state] + path\n",
    "            if path == 'cutoff':\n",
    "                cutoff = True\n",
    "        return 'cutoff' if cutoff else 'failure'\n",
    "    return dls(start, depth)\n",
    "\n",
    "def iterativeDeepeningSearch_proofs(start, goal, generateSuccessors, goalTest, maxDepth):\n",
    "    for i in range(maxDepth):\n",
    "        dls = depthLimitedSearch_proofs(start, goal, generateSuccessors, goalTest, i)\n",
    "        if dls == 'failure':\n",
    "            return 'failure'\n",
    "        if dls != 'cutoff':\n",
    "            return dls\n",
    "    return 'cutoff'"
   ]
  },
  {
   "cell_type": "markdown",
   "metadata": {},
   "source": [
    "And here we go! Everything is in place to do use iterative deepening search to do basic propositional logic. Just define a set of given statements, a statement to be proven, and a maximum number of steps in the proof, and away we go!"
   ]
  },
  {
   "cell_type": "code",
   "execution_count": 41,
   "metadata": {
    "collapsed": false
   },
   "outputs": [
    {
     "name": "stdout",
     "output_type": "stream",
     "text": [
      "[[('IF', ('NOT', 'A'), 'B'), ('IF', 'A', 'C'), ('NOT', 'C'), ('IF', 'B', 'D')], [('IF', ('NOT', 'A'), 'B'), ('IF', 'A', 'C'), ('NOT', 'C'), ('IF', 'B', 'D'), ('NOT', 'A')], [('IF', ('NOT', 'A'), 'B'), ('IF', 'A', 'C'), ('NOT', 'C'), ('IF', 'B', 'D'), ('NOT', 'A'), 'B'], [('IF', ('NOT', 'A'), 'B'), ('IF', 'A', 'C'), ('NOT', 'C'), ('IF', 'B', 'D'), ('NOT', 'A'), 'B', 'D']]\n"
     ]
    }
   ],
   "source": [
    "statement1 = (\"IF\",(\"NOT\",\"A\"),\"B\")\n",
    "statement2 = (\"IF\",\"A\",\"C\")\n",
    "statement3 = (\"NOT\",\"C\")\n",
    "statement4 = (\"IF\",\"B\",\"D\")\n",
    "\n",
    "given = [statement1,statement2,statement3,statement4]\n",
    "prove = \"D\"\n",
    "maxDepth = 10\n",
    "\n",
    "statements = iterativeDeepeningSearch_proofs(given, prove, successors, GoalTest, maxDepth)\n",
    "print (statements)"
   ]
  },
  {
   "cell_type": "markdown",
   "metadata": {},
   "source": [
    "Okay well that is not exactly readable. Let's fix that."
   ]
  },
  {
   "cell_type": "code",
   "execution_count": 42,
   "metadata": {
    "collapsed": false
   },
   "outputs": [
    {
     "name": "stdout",
     "output_type": "stream",
     "text": [
      "Given:\n",
      "  If (Not (A)) then (B)\n",
      "  If (A) then (C)\n",
      "  Not (C)\n",
      "  If (B) then (D)\n",
      "Prove:\n",
      "  D\n",
      "Proof:\n",
      "  Not (A)\n",
      "  B\n",
      "  D\n"
     ]
    }
   ],
   "source": [
    "def printProof(start,goal,proof):\n",
    "    print(\"Given:\")\n",
    "    [print (\" \",statementToString(given)) for given in start]\n",
    "    print(\"Prove:\\n \", statementToString(goal))\n",
    "    \n",
    "    if proof == \"cutoff\" or proof == \"failure\":\n",
    "        print (\"Proof failed:\",proof)\n",
    "        return\n",
    "    \n",
    "    print(\"Proof:\")\n",
    "    [print (\" \",statementToString(statement[-1])) for statement in proof[1:]]\n",
    "\n",
    "printProof(given, prove, statements)"
   ]
  },
  {
   "cell_type": "markdown",
   "metadata": {},
   "source": [
    "So this prints out the statements that are given to start and the thing to be proven. The proof is the statements in the order in which they are proven. There still is a little interpretation that has to be done, because this method does not currently keep track of which rule is applied to which statement. I know because this is a contrived example that the first step, which proves that \"Not (A)\" is a true statement, was discovered by applying modus tollens to the statements \"Not (C)\" and \"If (A) then (C)\". In future work, that would be a pretty high priority thing to implement so that it is easier to keep track of what rule is applied to reach each conclusion along the way.\n",
    "\n",
    "Regardless, it works! You can work out the example provided by hand to come to the same conclusion. If it is not possible to discover something, than the search reaches the cutoff point and the search cuts off, or the search runs out of statement to explore and the proof fails"
   ]
  },
  {
   "cell_type": "code",
   "execution_count": 43,
   "metadata": {
    "collapsed": false
   },
   "outputs": [
    {
     "name": "stdout",
     "output_type": "stream",
     "text": [
      "Given:\n",
      "  If (A) then (B)\n",
      "  B\n",
      "Prove:\n",
      "  A\n",
      "Proof failed: failure\n"
     ]
    }
   ],
   "source": [
    "given = [(\"IF\",\"A\",\"B\"),\"B\"]\n",
    "prove = \"A\"\n",
    "\n",
    "statements = iterativeDeepeningSearch_proofs(given, prove, successors, GoalTest, maxDepth)\n",
    "\n",
    "printProof(given, prove, statements)"
   ]
  },
  {
   "cell_type": "markdown",
   "metadata": {},
   "source": [
    "One last example:"
   ]
  },
  {
   "cell_type": "code",
   "execution_count": 44,
   "metadata": {
    "collapsed": false
   },
   "outputs": [
    {
     "name": "stdout",
     "output_type": "stream",
     "text": [
      "Given:\n",
      "  If (A) then (B)\n",
      "  If (B) then (C)\n",
      "  If (C) then (D)\n",
      "  If (D) then (E)\n",
      "  If (E) then (F)\n",
      "Prove:\n",
      "  If (A) then (F)\n",
      "Proof:\n",
      "  If (A) then (C)\n",
      "  If (C) then (E)\n",
      "  If (A) then (E)\n",
      "  If (A) then (F)\n"
     ]
    }
   ],
   "source": [
    "statement1 = (\"IF\",\"A\",\"B\")\n",
    "statement2 = (\"IF\",\"B\",\"C\")\n",
    "statement3 = (\"IF\",\"C\",\"D\")\n",
    "statement4 = (\"IF\",\"D\",\"E\")\n",
    "statement5 = (\"IF\",\"E\",\"F\")\n",
    "given = [statement1,statement2,statement3,statement4,statement5]\n",
    "prove = (\"IF\",\"A\",\"F\")\n",
    "\n",
    "statements = iterativeDeepeningSearch_proofs(given, prove, successors, GoalTest, maxDepth)\n",
    "\n",
    "printProof(given, prove, statements)"
   ]
  },
  {
   "cell_type": "code",
   "execution_count": 45,
   "metadata": {
    "collapsed": false,
    "scrolled": true
   },
   "outputs": [
    {
     "name": "stdout",
     "output_type": "stream",
     "text": [
      "\n",
      "Searching this graph:\n",
      " {'b': ['a'], 'e': ['z'], 'a': ['b', 'z', 'd'], 'd': ['y'], 'y': ['z']}\n",
      "\n",
      "Looking for path from a to y with max depth of 1.\n",
      " 5/ 5 points. Your search correctly returned cutoff\n",
      "\n",
      "Looking for path from a to y with max depth of 5.\n",
      "10/10 points. Your search correctly returned ['a', 'z']\n",
      "\n",
      "Testing findBlank_8p([1, 2, 3, 4, 5, 6, 7, 0, 8])\n",
      " 5/ 5 points. Your findBlank_8p correctly returned 2 1\n",
      "\n",
      "Testing actionsF_8p([1, 2, 3, 4, 5, 6, 7, 0, 8])\n",
      "10/10 points. Your actionsF_8p correctly returned ['left', 'right', 'up']\n",
      "\n",
      "Testing takeActionF_8p([1, 2, 3, 4, 5, 6, 7, 0, 8],up)\n",
      "10/10 points. Your takeActionsF_8p correctly returned [1, 2, 3, 4, 0, 6, 7, 5, 8]\n",
      "\n",
      "Testing iterativeDeepeningSearch([1, 2, 3, 4, 5, 6, 7, 0, 8],[0, 2, 3, 1, 4,  6, 7, 5, 8], actionsF_8p, takeActionF_8p, 5)\n",
      "20/20 points. Your search correctly returned [[1, 2, 3, 4, 5, 6, 7, 0, 8], [1, 2, 3, 4, 0, 6, 7, 5, 8], [1, 2, 3, 0, 4, 6, 7, 5, 8], [0, 2, 3, 1, 4, 6, 7, 5, 8]]\n",
      "\n",
      "Testing iterativeDeepeningSearch([5, 2, 8, 0, 1, 4, 3, 7, 6], [0, 2, 3, 1, 4,  6, 7, 5, 8], actionsF_8p, takeActionF_8p, 10)\n",
      "20/20 points. Your search correctly returned cutoff\n",
      "\n",
      "A2 Grade is 80/80\n",
      "Up to 20 more points will be given based on the qualty of your descriptions of the method and the results.\n"
     ]
    }
   ],
   "source": [
    "%run -i A2grader.py"
   ]
  }
 ],
 "metadata": {
  "anaconda-cloud": {},
  "kernelspec": {
   "display_name": "Python [conda root]",
   "language": "python",
   "name": "conda-root-py"
  },
  "language_info": {
   "codemirror_mode": {
    "name": "ipython",
    "version": 3
   },
   "file_extension": ".py",
   "mimetype": "text/x-python",
   "name": "python",
   "nbconvert_exporter": "python",
   "pygments_lexer": "ipython3",
   "version": "3.5.2"
  }
 },
 "nbformat": 4,
 "nbformat_minor": 1
}
